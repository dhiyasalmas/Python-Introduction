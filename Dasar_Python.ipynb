{
  "nbformat": 4,
  "nbformat_minor": 0,
  "metadata": {
    "colab": {
      "provenance": [],
      "collapsed_sections": [
        "CobsRcUDWLSN",
        "Tiqsz1g2XxFB",
        "Ia27Cr_SYxtI",
        "rnTbmq2BY-iF",
        "jblkqC99ZfiF",
        "h5nQFBSabCgi",
        "N_2cJLlcbuTW",
        "7cTjz1mLcUbV",
        "uhnmHBi4cz1U",
        "Njjhzh-nf2vq",
        "nEL_c13ahiyU",
        "jyD47JqPiKVD",
        "Tm49RoN1hkZe",
        "lsr4r7yR-7y3",
        "ub3-hbCNIOp4"
      ],
      "include_colab_link": true
    },
    "kernelspec": {
      "name": "python3",
      "display_name": "Python 3"
    },
    "language_info": {
      "name": "python"
    }
  },
  "cells": [
    {
      "cell_type": "markdown",
      "metadata": {
        "id": "view-in-github",
        "colab_type": "text"
      },
      "source": [
        "<a href=\"https://colab.research.google.com/github/dhiyasalmas/Python-Introduction/blob/main/Dasar_Python.ipynb\" target=\"_parent\"><img src=\"https://colab.research.google.com/assets/colab-badge.svg\" alt=\"Open In Colab\"/></a>"
      ]
    },
    {
      "cell_type": "markdown",
      "source": [
        "# **Haiii Haii...**"
      ],
      "metadata": {
        "id": "Uf-25vE5KEwZ"
      }
    },
    {
      "cell_type": "markdown",
      "source": [
        "# **Basic python**"
      ],
      "metadata": {
        "id": "A_rlQYivTcqx"
      }
    },
    {
      "cell_type": "markdown",
      "source": [
        "Dhiya Salma Salsabila/24923304\n",
        "\n",
        "Refrensi:\n",
        "1. https://belajarpython.com/tutorial/apa-itu-python/\n",
        "2. https://www.w3schools.com/python/python_intro.asp\n",
        "3. https://revou.co/panduan-teknis/variable-python\n",
        "\n",
        "Jika ingin belajar lebih lengkap bisa kunjungi:\n",
        "https://dasarpemrogramanpython.novalagung.com/\n",
        "\n"
      ],
      "metadata": {
        "id": "HFYsfxcFemiI"
      }
    },
    {
      "cell_type": "markdown",
      "source": [
        "## **Komentar**"
      ],
      "metadata": {
        "id": "T9fIJZlAUmU4"
      }
    },
    {
      "cell_type": "markdown",
      "source": [
        "Komentar (comment) adalah kode di dalam script Python yang tidak dieksekusi atau tidak dijalankan mesin. Komentar hanya digunakan untuk menandai atau memberikan keterangan tertulis pada script. Komentar biasa digunakan untuk membiarkan orang lain memahami apa yang dilakukan script. atau untuk mengingatkan kepada programmer sendiri jika suatu saat kembali mengedit script tersebut. Untuk menggunakan komentar anda cukup menulis tanda pagar #, diikuti dengan komentar"
      ],
      "metadata": {
        "id": "wwfigpT3Tr3U"
      }
    },
    {
      "cell_type": "code",
      "execution_count": null,
      "metadata": {
        "id": "Ed2bXmyXRf9v"
      },
      "outputs": [],
      "source": [
        "# ini adalah komentar\n",
        "\n",
        "# Komentar tidak dieksekusi dalam baris kode"
      ]
    },
    {
      "cell_type": "markdown",
      "source": [
        "Komentar dengan tanda # hanya bisa untuk satu baris, lalu bagiamana jika ingin lebih?"
      ],
      "metadata": {
        "id": "3Y68oKdZUBKh"
      }
    },
    {
      "cell_type": "code",
      "source": [
        "#komentar dengan tanda pagar hanya bisa digunakan\n",
        "\n",
        "#untuk\n",
        "\n",
        "#satu\n",
        "\n",
        "#baris"
      ],
      "metadata": {
        "id": "TqoBjeMaUBqi"
      },
      "execution_count": null,
      "outputs": []
    },
    {
      "cell_type": "code",
      "source": [
        "\"\"\"\n",
        "\n",
        "Penulisan Komentar lebih dari satu baris yaitu\n",
        "\n",
        "dengan menggunakan kutip dua 3 kali dan\n",
        "\n",
        "ditutup dengan kutip dua 3 kali juga\n",
        "\n",
        "\"\"\""
      ],
      "metadata": {
        "colab": {
          "base_uri": "https://localhost:8080/",
          "height": 36
        },
        "id": "8mX3qeCrUEYO",
        "outputId": "341707f8-3bf6-4953-d63b-4dbb5f85d5f1"
      },
      "execution_count": null,
      "outputs": [
        {
          "output_type": "execute_result",
          "data": {
            "text/plain": [
              "' \\n\\nPenulisan Komentar lebih dari satu baris yaitu \\n\\ndengan menggunakan kutip dua 3 kali dan  \\n\\nditutup dengan kutip dua 3 kali juga \\n\\n'"
            ],
            "application/vnd.google.colaboratory.intrinsic+json": {
              "type": "string"
            }
          },
          "metadata": {},
          "execution_count": 1
        }
      ]
    },
    {
      "cell_type": "markdown",
      "source": [
        "Hal lainnya, komentar dapat mempermudah proses debugging (mencari kesalahan/error) dalam program yang dijalankan."
      ],
      "metadata": {
        "id": "13bXFoy5UJRJ"
      }
    },
    {
      "cell_type": "markdown",
      "source": [
        "## **Print**"
      ],
      "metadata": {
        "id": "MVv0zq9ZUuzg"
      }
    },
    {
      "cell_type": "markdown",
      "source": [
        "Print adalah sebuah fungsi yang digunakan untuk memunculkan output yang ingin kita print pada console"
      ],
      "metadata": {
        "id": "vU_ibGYUVAY1"
      }
    },
    {
      "cell_type": "code",
      "source": [
        "print(\"Haiii, Haii...\")"
      ],
      "metadata": {
        "colab": {
          "base_uri": "https://localhost:8080/"
        },
        "id": "HKgOptVRUwE0",
        "outputId": "c255ad56-b6a2-4033-da27-6c5bc5dd74e1"
      },
      "execution_count": null,
      "outputs": [
        {
          "output_type": "stream",
          "name": "stdout",
          "text": [
            "Haiii, Haii...\n"
          ]
        }
      ]
    },
    {
      "cell_type": "markdown",
      "source": [
        "Python bersifat case sensitif, dimana penulisan huruf besar dan kecil akan dianggap berbeda. Perhatikan penulisan **\"print\"** dan **\"Print\"**."
      ],
      "metadata": {
        "id": "qutIdZoKVaQK"
      }
    },
    {
      "cell_type": "code",
      "source": [
        "Print(\"Haiii, Haii...\")"
      ],
      "metadata": {
        "colab": {
          "base_uri": "https://localhost:8080/",
          "height": 141
        },
        "id": "zmyWEIsSV1YJ",
        "outputId": "46d4eab5-5ece-4c78-e3a5-33925cc228dd"
      },
      "execution_count": null,
      "outputs": [
        {
          "output_type": "error",
          "ename": "NameError",
          "evalue": "name 'Print' is not defined",
          "traceback": [
            "\u001b[0;31m---------------------------------------------------------------------------\u001b[0m",
            "\u001b[0;31mNameError\u001b[0m                                 Traceback (most recent call last)",
            "\u001b[0;32m<ipython-input-4-660e08869d7c>\u001b[0m in \u001b[0;36m<cell line: 1>\u001b[0;34m()\u001b[0m\n\u001b[0;32m----> 1\u001b[0;31m \u001b[0mPrint\u001b[0m\u001b[0;34m(\u001b[0m\u001b[0;34m\"Haiii, Haii...\"\u001b[0m\u001b[0;34m)\u001b[0m\u001b[0;34m\u001b[0m\u001b[0;34m\u001b[0m\u001b[0m\n\u001b[0m",
            "\u001b[0;31mNameError\u001b[0m: name 'Print' is not defined"
          ]
        }
      ]
    },
    {
      "cell_type": "markdown",
      "source": [
        "## **Variabel**"
      ],
      "metadata": {
        "id": "_vz4w58QznwM"
      }
    },
    {
      "cell_type": "markdown",
      "source": [
        "Variabel adalah tempat penyimpanan untuk menyimpan nilai data. Saat menggunakan Python, tidak perlu dideklarasikan tipe data sebelum variabel; cukup berikan nama dan nilai, lalu Python akan menentukan tipe datanya."
      ],
      "metadata": {
        "id": "9KjNSIKuQ0Ac"
      }
    },
    {
      "cell_type": "markdown",
      "source": [
        "Saat memberikan nama pada variabel, ada beberapa aturan dan konvensi yang harus diikuti:\n",
        "\n",
        "\n",
        "1. Dimulai dengan huruf atau garis bawah (_): nama variabel harus dimulai dengan huruf (huruf kecil maupun kapital) atau garis bawah (_).\n",
        "2. Tidak dimulai dengan angka: meskipun angka dapat dimasukkan dalam nama variabel (misalnya, angka1 atau nilai100), variabel tidak boleh dimulai dengan angka. Jadi, 1nama atau 2023tahun tidaklah valid.\n",
        "3. Tidak diperbolehkan menggunakan karakter khusus: nama variabel hanya boleh terdiri dari huruf, angka, dan garis bawah. Dengan kata lain, karakter khusus seperti !, @, #, $, dll., tidak diperbolehkan.\n",
        "4. Tidak menggunakan kata kunci Python: kata kunci atau reserved words di Python, seperti if, else, while, and, or, dll., tidak boleh digunakan sebagai nama variabel."
      ],
      "metadata": {
        "id": "i-qCpDYgRNqo"
      }
    },
    {
      "cell_type": "code",
      "source": [
        "var = 4\n",
        "str_var = \"Sharing Python\""
      ],
      "metadata": {
        "id": "u-IRmpvXz0J0"
      },
      "execution_count": null,
      "outputs": []
    },
    {
      "cell_type": "code",
      "source": [
        "_var = 2024"
      ],
      "metadata": {
        "id": "I1Gzc1llRg0U"
      },
      "execution_count": null,
      "outputs": []
    },
    {
      "cell_type": "code",
      "source": [
        "var2024 = 7"
      ],
      "metadata": {
        "id": "UF4f4qloRmH_"
      },
      "execution_count": null,
      "outputs": []
    },
    {
      "cell_type": "markdown",
      "source": [
        "Variabel global adalah variabel yang didefinisikan di luar semua fungsi, sehingga dapat diakses dari mana saja dalam kode, baik di dalam maupun di luar fungsi. Untuk membuat variabel menjadi global, kamu bisa mendefinisikannya di awal kode, sebelum fungsi atau modul apa pun."
      ],
      "metadata": {
        "id": "cFrxThxRSdRl"
      }
    },
    {
      "cell_type": "code",
      "source": [
        "global s\n",
        "def ubah_variabel():\n",
        "    # Mendeklarasikan s sebagai variabel global\n",
        "    s = \"Saya adalah variabel global\"\n",
        "    return s\n",
        "\n",
        "# Memanggil fungsi\n",
        "ubah_variabel()"
      ],
      "metadata": {
        "colab": {
          "base_uri": "https://localhost:8080/",
          "height": 36
        },
        "id": "sVQTwwTNSyQY",
        "outputId": "aa5efc25-2c27-4747-a2ff-c806a0e5fd08"
      },
      "execution_count": null,
      "outputs": [
        {
          "output_type": "execute_result",
          "data": {
            "text/plain": [
              "'Saya adalah variabel global'"
            ],
            "application/vnd.google.colaboratory.intrinsic+json": {
              "type": "string"
            }
          },
          "metadata": {},
          "execution_count": 35
        }
      ]
    },
    {
      "cell_type": "markdown",
      "source": [
        "Di sisi lain, variabel lokal adalah variabel yang didefinisikan di dalam sebuah fungsi dan hanya dapat diakses di dalam lingkup fungsi tersebut. Artinya, variabel lokal tidak akan bisa diakses atau digunakan di luar fungsi tempat ia didefinisikan."
      ],
      "metadata": {
        "id": "S4enQse6SxnJ"
      }
    },
    {
      "cell_type": "code",
      "source": [
        "def contoh_fungsi():\n",
        "    variabel_lokal = \"Saya adalah variabel lokal\"\n",
        "    return var\n",
        "\n",
        "# Memanggil fungsi\n",
        "contoh_fungsi()\n",
        "\n",
        "# Mencetak variabel\n",
        "print(variabel_lokal)"
      ],
      "metadata": {
        "colab": {
          "base_uri": "https://localhost:8080/",
          "height": 176
        },
        "id": "sq01eVOTTlOC",
        "outputId": "c0d380d9-753e-489d-8083-ec5f01457b93"
      },
      "execution_count": null,
      "outputs": [
        {
          "output_type": "error",
          "ename": "NameError",
          "evalue": "name 'variabel_lokal' is not defined",
          "traceback": [
            "\u001b[0;31m---------------------------------------------------------------------------\u001b[0m",
            "\u001b[0;31mNameError\u001b[0m                                 Traceback (most recent call last)",
            "\u001b[0;32m<ipython-input-36-7ad35ca9a0f0>\u001b[0m in \u001b[0;36m<cell line: 8>\u001b[0;34m()\u001b[0m\n\u001b[1;32m      6\u001b[0m \u001b[0;34m\u001b[0m\u001b[0m\n\u001b[1;32m      7\u001b[0m \u001b[0;31m# Mencetak variabel\u001b[0m\u001b[0;34m\u001b[0m\u001b[0;34m\u001b[0m\u001b[0m\n\u001b[0;32m----> 8\u001b[0;31m \u001b[0mprint\u001b[0m\u001b[0;34m(\u001b[0m\u001b[0mvariabel_lokal\u001b[0m\u001b[0;34m)\u001b[0m\u001b[0;34m\u001b[0m\u001b[0;34m\u001b[0m\u001b[0m\n\u001b[0m",
            "\u001b[0;31mNameError\u001b[0m: name 'variabel_lokal' is not defined"
          ]
        }
      ]
    },
    {
      "cell_type": "markdown",
      "source": [
        "## **Fungsi**"
      ],
      "metadata": {
        "id": "7K2QLGI3j7f6"
      }
    },
    {
      "cell_type": "markdown",
      "source": [
        "Berikut adalah aturan sederhana untuk mendefinisikan fungsi dengan Python.\n",
        "\n",
        "1. Fungsi blok dimulai dengan def kata kunci diikuti oleh nama fungsi dan tanda kurung (()).\n",
        "2. Setiap parameter masukan atau argumen harus ditempatkan di dalam tanda kurung ini. Dapat juga menentukan parameter di dalam tanda kurung ini.\n",
        "3. Blok kode dalam setiap fungsi dimulai dengan titik dua (:)"
      ],
      "metadata": {
        "id": "3y5vdjGhj8_4"
      }
    },
    {
      "cell_type": "code",
      "source": [
        "# Membuat Fungsi\n",
        "def salam():\n",
        "    return \"Hello, Selamat Pagi\"\n",
        "\n",
        "## Pemanggilan Fungsi\n",
        "salam()"
      ],
      "metadata": {
        "id": "yDoNF_39kq20",
        "colab": {
          "base_uri": "https://localhost:8080/",
          "height": 36
        },
        "outputId": "dc271f19-6733-4f50-85b0-81666d7f4615"
      },
      "execution_count": null,
      "outputs": [
        {
          "output_type": "execute_result",
          "data": {
            "text/plain": [
              "'Hello, Selamat Pagi'"
            ],
            "application/vnd.google.colaboratory.intrinsic+json": {
              "type": "string"
            }
          },
          "metadata": {},
          "execution_count": 14
        }
      ]
    },
    {
      "cell_type": "code",
      "source": [
        "def luas_segitiga(alas, tinggi):\n",
        "    luas = (alas * tinggi) / 2\n",
        "    return luas\n",
        "\n",
        "luas_segitiga(4, 6)"
      ],
      "metadata": {
        "id": "85TZiC2Wky8E",
        "colab": {
          "base_uri": "https://localhost:8080/"
        },
        "outputId": "77f9cc77-51a5-4167-a6bf-830ca706c943"
      },
      "execution_count": null,
      "outputs": [
        {
          "output_type": "execute_result",
          "data": {
            "text/plain": [
              "12.0"
            ]
          },
          "metadata": {},
          "execution_count": 45
        }
      ]
    },
    {
      "cell_type": "code",
      "source": [
        "def luas"
      ],
      "metadata": {
        "id": "NDcQfvts8E5E"
      },
      "execution_count": null,
      "outputs": []
    },
    {
      "cell_type": "markdown",
      "source": [
        "Fungsi yang tidak mengembalikan nilai biasanya disebut dengan prosedur.\n",
        "Namun, kadang dibutuhkan hasil proses dari fungsi untuk digunakan pada proses berikutnya.\n",
        "Maka fungsi harus mengembalikan nilai dari hasil pemrosesannya.\n",
        "Cara mengembalikan nilai adalah menggunakan kata kunci return lalu diikuti dengan nilai atau variabel yang akan dikembalikan."
      ],
      "metadata": {
        "id": "JoZPLzVymNN1"
      }
    },
    {
      "cell_type": "code",
      "source": [
        "def luas_persegi(sisi):\n",
        "    luas = (sisi * sisi)\n",
        "    return \"luas persegi: %f\" % luas;\n",
        "\n",
        "# pemanggilan fungsi\n",
        "luas_persegi(7)"
      ],
      "metadata": {
        "id": "zrOYE1rwmN4d",
        "colab": {
          "base_uri": "https://localhost:8080/",
          "height": 36
        },
        "outputId": "1c8431af-2bcb-427b-8bb0-a3c03c6e8316"
      },
      "execution_count": null,
      "outputs": [
        {
          "output_type": "execute_result",
          "data": {
            "text/plain": [
              "'luas persegi: 49.000000'"
            ],
            "application/vnd.google.colaboratory.intrinsic+json": {
              "type": "string"
            }
          },
          "metadata": {},
          "execution_count": 33
        }
      ]
    },
    {
      "cell_type": "code",
      "source": [
        "def volume_balok (panjang, lebar, tinggi):\n",
        "    volume = (panjang * lebar * tinggi)\n",
        "    return \"volume balok: %f\" %volume\n",
        "\n",
        "volume_balok (2, 3, 4)"
      ],
      "metadata": {
        "colab": {
          "base_uri": "https://localhost:8080/",
          "height": 36
        },
        "id": "Fe6fjrsaAphb",
        "outputId": "628d421b-7bbc-4851-d14a-b767bca5d1bb"
      },
      "execution_count": null,
      "outputs": [
        {
          "output_type": "execute_result",
          "data": {
            "text/plain": [
              "'volume balok: 24.000000'"
            ],
            "application/vnd.google.colaboratory.intrinsic+json": {
              "type": "string"
            }
          },
          "metadata": {},
          "execution_count": 9
        }
      ]
    },
    {
      "cell_type": "markdown",
      "source": [
        "## **Tipe Data**"
      ],
      "metadata": {
        "id": "cXr9JNEzV7CZ"
      }
    },
    {
      "cell_type": "markdown",
      "source": [
        "### String"
      ],
      "metadata": {
        "id": "CobsRcUDWLSN"
      }
    },
    {
      "cell_type": "markdown",
      "source": [
        "Menyatakan karakter/kalimat bisa berupa huruf angka, dll (diapit tanda \" atau ')"
      ],
      "metadata": {
        "id": "LCK9NVpCWQs6"
      }
    },
    {
      "cell_type": "code",
      "source": [
        "#contoh string\n",
        "\"Hello World!\""
      ],
      "metadata": {
        "id": "ZOdn6MN_V9NR"
      },
      "execution_count": null,
      "outputs": []
    },
    {
      "cell_type": "code",
      "source": [
        "#a sama dengan variabel dengan tipe data string\n",
        "a = \"Belajar Python\"\n",
        "print (a)\n"
      ],
      "metadata": {
        "id": "Sg1YHPWmVgSm",
        "colab": {
          "base_uri": "https://localhost:8080/"
        },
        "outputId": "0b26f385-f1f3-4b8d-c445-807bd8b3dace"
      },
      "execution_count": null,
      "outputs": [
        {
          "output_type": "stream",
          "name": "stdout",
          "text": [
            "Belajar Python\n"
          ]
        }
      ]
    },
    {
      "cell_type": "code",
      "source": [
        "#mengakses nilai string\n",
        "nama = \"Salsa\"\n",
        "print (\"Selamat datang\", nama)\n",
        "print(nama[0])\n",
        "\n",
        "#contoh lainnya\n",
        "alamat = \"Jalan Taman Sari\"\n",
        "print(alamat[6:])\n",
        "\n",
        "#update string\n",
        "print (\"Updated String :\", alamat[0:6] + 'Ganesa')"
      ],
      "metadata": {
        "colab": {
          "base_uri": "https://localhost:8080/"
        },
        "id": "gzMMS5jUVrNz",
        "outputId": "0b7060ce-9028-42f9-9fe6-dbf92c68e897"
      },
      "execution_count": null,
      "outputs": [
        {
          "output_type": "stream",
          "name": "stdout",
          "text": [
            "Selamat datang Salsa\n",
            "S\n",
            "Taman Sari\n",
            "Updated String : Jalan Ganesa\n"
          ]
        }
      ]
    },
    {
      "cell_type": "code",
      "source": [
        "nama_mahasiswa = \"Nina Widiawati\"\n",
        "print (\"Selamat datang\", nama_mahasiswa)\n",
        "print (nama_mahasiswa[0:])\n",
        "\n",
        "alamat = \"Jalan Paledang Bojong Kunci \"\n",
        "print (\"Alamat\", alamat)\n",
        "\n",
        "print (\"Update String :\", alamat [0:] + \"Oye\")"
      ],
      "metadata": {
        "colab": {
          "base_uri": "https://localhost:8080/"
        },
        "id": "Br7gk0T3CtMv",
        "outputId": "6b78097a-7d25-4e2d-cdae-74dfdf1fda67"
      },
      "execution_count": null,
      "outputs": [
        {
          "output_type": "stream",
          "name": "stdout",
          "text": [
            "Selamat datang Nina Widiawati\n",
            "Nina Widiawati\n",
            "Alamat Jalan Paledang Bojong Kunci \n",
            "Update String : Jalan Paledang Bojong Kunci Oye\n"
          ]
        }
      ]
    },
    {
      "cell_type": "markdown",
      "source": [
        "### Bolean"
      ],
      "metadata": {
        "id": "Tiqsz1g2XxFB"
      }
    },
    {
      "cell_type": "markdown",
      "source": [
        "Menyatakan benar (True) dan salah (False)"
      ],
      "metadata": {
        "id": "xXQHM8FbXyGL"
      }
    },
    {
      "cell_type": "code",
      "source": [
        "bool(13>9)"
      ],
      "metadata": {
        "colab": {
          "base_uri": "https://localhost:8080/"
        },
        "id": "LgiR83i5X5ck",
        "outputId": "2dc35592-fcb6-4a88-ac8b-04c76224da97"
      },
      "execution_count": null,
      "outputs": [
        {
          "output_type": "execute_result",
          "data": {
            "text/plain": [
              "True"
            ]
          },
          "metadata": {},
          "execution_count": 25
        }
      ]
    },
    {
      "cell_type": "code",
      "source": [
        "bool(1>2)"
      ],
      "metadata": {
        "colab": {
          "base_uri": "https://localhost:8080/"
        },
        "id": "xcPBph01X8WP",
        "outputId": "9c13ecc5-94d8-4692-e80e-e39b665d7b2c"
      },
      "execution_count": null,
      "outputs": [
        {
          "output_type": "execute_result",
          "data": {
            "text/plain": [
              "False"
            ]
          },
          "metadata": {},
          "execution_count": 35
        }
      ]
    },
    {
      "cell_type": "markdown",
      "source": [
        "### Integer"
      ],
      "metadata": {
        "id": "Ia27Cr_SYxtI"
      }
    },
    {
      "cell_type": "markdown",
      "source": [
        "Menyatakan bilangan bulat"
      ],
      "metadata": {
        "id": "UzXrFBeyYzKn"
      }
    },
    {
      "cell_type": "code",
      "source": [
        "#integer\n",
        "a = 10"
      ],
      "metadata": {
        "id": "LWv_Dio9Y3eZ"
      },
      "execution_count": null,
      "outputs": []
    },
    {
      "cell_type": "markdown",
      "source": [
        "### Float"
      ],
      "metadata": {
        "id": "rnTbmq2BY-iF"
      }
    },
    {
      "cell_type": "markdown",
      "source": [
        "Menyatakan bilangan yang mempunyai koma"
      ],
      "metadata": {
        "id": "02v-k72FZApO"
      }
    },
    {
      "cell_type": "code",
      "source": [
        "#float\n",
        "b = 3.14"
      ],
      "metadata": {
        "id": "nmi46lwuZEls"
      },
      "execution_count": null,
      "outputs": []
    },
    {
      "cell_type": "markdown",
      "source": [
        "### Complex"
      ],
      "metadata": {
        "id": "jblkqC99ZfiF"
      }
    },
    {
      "cell_type": "markdown",
      "source": [
        "Menyatakan pasangan angka real dan imajiner"
      ],
      "metadata": {
        "id": "XZIFZNEyZqUr"
      }
    },
    {
      "cell_type": "code",
      "source": [
        "#compelx\n",
        "z = complex(3, 3)\n",
        "print(z)"
      ],
      "metadata": {
        "colab": {
          "base_uri": "https://localhost:8080/"
        },
        "id": "Yh7-IYhoZko7",
        "outputId": "f856097f-3d8e-4736-fcb5-41e9371a17e6"
      },
      "execution_count": null,
      "outputs": [
        {
          "output_type": "stream",
          "name": "stdout",
          "text": [
            "(3+3j)\n"
          ]
        }
      ]
    },
    {
      "cell_type": "markdown",
      "source": [
        "Cara mengecek tipe data"
      ],
      "metadata": {
        "id": "N7_aRf8DZzvv"
      }
    },
    {
      "cell_type": "code",
      "source": [
        "print(type(a))"
      ],
      "metadata": {
        "colab": {
          "base_uri": "https://localhost:8080/"
        },
        "id": "aEo4IAueZ175",
        "outputId": "ec6747e2-0d9a-4093-fa34-b3bd3ae40a0e"
      },
      "execution_count": null,
      "outputs": [
        {
          "output_type": "stream",
          "name": "stdout",
          "text": [
            "<class 'int'>\n"
          ]
        }
      ]
    },
    {
      "cell_type": "markdown",
      "source": [
        "### List"
      ],
      "metadata": {
        "id": "h5nQFBSabCgi"
      }
    },
    {
      "cell_type": "markdown",
      "source": [
        "Data untaian yang menyimpan berbagai tipe data dan isinya bisa diubah-ubah"
      ],
      "metadata": {
        "id": "RYxcgr__bEJZ"
      }
    },
    {
      "cell_type": "code",
      "source": [
        "my_list = ['a','b','c']\n",
        "print(my_list)"
      ],
      "metadata": {
        "colab": {
          "base_uri": "https://localhost:8080/"
        },
        "id": "BMOGL1IBbKXC",
        "outputId": "6b4b2953-f4f8-404f-d83c-07e3b3982dea"
      },
      "execution_count": null,
      "outputs": [
        {
          "output_type": "stream",
          "name": "stdout",
          "text": [
            "['a', 'b', 'c']\n"
          ]
        }
      ]
    },
    {
      "cell_type": "code",
      "source": [
        "#menambahkan data pada list\n",
        "my_list.append('d')\n",
        "print(my_list)"
      ],
      "metadata": {
        "colab": {
          "base_uri": "https://localhost:8080/"
        },
        "id": "DZLrFttRbSKM",
        "outputId": "4efea3a8-6ad1-4d0b-b65b-4100cc581cc9"
      },
      "execution_count": null,
      "outputs": [
        {
          "output_type": "stream",
          "name": "stdout",
          "text": [
            "['a', 'b', 'c', 'd']\n"
          ]
        }
      ]
    },
    {
      "cell_type": "code",
      "source": [
        "my_list[0] = 'h'\n",
        "my_list"
      ],
      "metadata": {
        "colab": {
          "base_uri": "https://localhost:8080/"
        },
        "id": "CqnifMn6bmlN",
        "outputId": "d78fecca-a0ff-4821-81e1-17b7661c6708"
      },
      "execution_count": null,
      "outputs": [
        {
          "output_type": "execute_result",
          "data": {
            "text/plain": [
              "['h', 'b', 'c', 'd']"
            ]
          },
          "metadata": {},
          "execution_count": 52
        }
      ]
    },
    {
      "cell_type": "code",
      "source": [
        "my_list = ['1', '2', '3', '4']\n",
        "my_list.insert(2, 5)\n",
        "print(my_list)"
      ],
      "metadata": {
        "colab": {
          "base_uri": "https://localhost:8080/"
        },
        "id": "9r8QuzpFIFuS",
        "outputId": "30bb908d-5420-4b1c-d4e4-bb34e1a1da88"
      },
      "execution_count": null,
      "outputs": [
        {
          "output_type": "stream",
          "name": "stdout",
          "text": [
            "['1', '2', 5, '3', '4']\n"
          ]
        }
      ]
    },
    {
      "cell_type": "markdown",
      "source": [
        "### Tuples"
      ],
      "metadata": {
        "id": "N_2cJLlcbuTW"
      }
    },
    {
      "cell_type": "markdown",
      "source": [
        "Data untaian yang menyimpan berbagai tipe data tapi isinya tidak bisa diubah"
      ],
      "metadata": {
        "id": "W9Q76Lq1bwVJ"
      }
    },
    {
      "cell_type": "code",
      "source": [
        "my_tuple = ('a','b','c')\n",
        "my_tuple[0]"
      ],
      "metadata": {
        "colab": {
          "base_uri": "https://localhost:8080/",
          "height": 36
        },
        "id": "jSU9OOhKbz-M",
        "outputId": "8df8843f-e872-43cb-b134-30b326a4c354"
      },
      "execution_count": null,
      "outputs": [
        {
          "output_type": "execute_result",
          "data": {
            "text/plain": [
              "'a'"
            ],
            "application/vnd.google.colaboratory.intrinsic+json": {
              "type": "string"
            }
          },
          "metadata": {},
          "execution_count": 55
        }
      ]
    },
    {
      "cell_type": "code",
      "source": [
        "my_tuple.append('d')"
      ],
      "metadata": {
        "colab": {
          "base_uri": "https://localhost:8080/",
          "height": 141
        },
        "id": "3CKSWLmSb_W4",
        "outputId": "d0d16e3c-e5d9-46c7-b333-d9eb4db5a5cd"
      },
      "execution_count": null,
      "outputs": [
        {
          "output_type": "error",
          "ename": "AttributeError",
          "evalue": "'tuple' object has no attribute 'append'",
          "traceback": [
            "\u001b[0;31m---------------------------------------------------------------------------\u001b[0m",
            "\u001b[0;31mAttributeError\u001b[0m                            Traceback (most recent call last)",
            "\u001b[0;32m<ipython-input-51-87b103e32210>\u001b[0m in \u001b[0;36m<cell line: 1>\u001b[0;34m()\u001b[0m\n\u001b[0;32m----> 1\u001b[0;31m \u001b[0mmy_tuple\u001b[0m\u001b[0;34m.\u001b[0m\u001b[0mappend\u001b[0m\u001b[0;34m(\u001b[0m\u001b[0;34m'd'\u001b[0m\u001b[0;34m)\u001b[0m\u001b[0;34m\u001b[0m\u001b[0;34m\u001b[0m\u001b[0m\n\u001b[0m",
            "\u001b[0;31mAttributeError\u001b[0m: 'tuple' object has no attribute 'append'"
          ]
        }
      ]
    },
    {
      "cell_type": "markdown",
      "source": [
        "### Dictionary"
      ],
      "metadata": {
        "id": "7cTjz1mLcUbV"
      }
    },
    {
      "cell_type": "markdown",
      "source": [
        "Data untaian yang menyimpan berbagai tipe data berupa pasangan penunjuk dan nilai"
      ],
      "metadata": {
        "id": "8g9CPb5zcXT6"
      }
    },
    {
      "cell_type": "code",
      "source": [
        "dict = {'nama':'Dhiya','prodi':'rekayasa nuklir'}"
      ],
      "metadata": {
        "id": "OD65Of6mcaOb"
      },
      "execution_count": null,
      "outputs": []
    },
    {
      "cell_type": "code",
      "source": [
        "dict['nama']"
      ],
      "metadata": {
        "colab": {
          "base_uri": "https://localhost:8080/",
          "height": 36
        },
        "id": "v1R3JwpEcoH0",
        "outputId": "e1780483-6e65-4678-fd09-f5aefa40cf77"
      },
      "execution_count": null,
      "outputs": [
        {
          "output_type": "execute_result",
          "data": {
            "text/plain": [
              "'Dhiya'"
            ],
            "application/vnd.google.colaboratory.intrinsic+json": {
              "type": "string"
            }
          },
          "metadata": {},
          "execution_count": 57
        }
      ]
    },
    {
      "cell_type": "code",
      "source": [],
      "metadata": {
        "id": "y4CqV3GAAfgc"
      },
      "execution_count": null,
      "outputs": []
    },
    {
      "cell_type": "markdown",
      "source": [
        "## Operator"
      ],
      "metadata": {
        "id": "uhnmHBi4cz1U"
      }
    },
    {
      "cell_type": "markdown",
      "source": [
        "### Operator Aritmatika"
      ],
      "metadata": {
        "id": "9ZVRW2JxeD5-"
      }
    },
    {
      "cell_type": "code",
      "source": [
        "#penjumlahan\n",
        "a = 1 + 1\n",
        "print(\"a\", a)\n",
        "\n",
        "#pengurangan\n",
        "aa = 2 - 1\n",
        "print(\"aa\", aa)\n",
        "\n",
        "#perkalian\n",
        "b = 3 * 3\n",
        "print(\"b\", b)\n",
        "\n",
        "#pembagian\n",
        "c = 1 / 2\n",
        "print(\"c\", c)\n",
        "\n",
        "#pangkat\n",
        "d = 2 ** 4\n",
        "print(\"d\", d)\n",
        "\n",
        "#sisa bagi\n",
        "e = 4 % 2\n",
        "print(\"e\", e)\n",
        "\n",
        "#pembagian bulat\n",
        "f = 12.5 // 2\n",
        "print(\"f\", f)"
      ],
      "metadata": {
        "colab": {
          "base_uri": "https://localhost:8080/"
        },
        "id": "5JuFBerSc4cR",
        "outputId": "2f8fe14f-adce-4292-cdc0-99157a98292a"
      },
      "execution_count": null,
      "outputs": [
        {
          "output_type": "stream",
          "name": "stdout",
          "text": [
            "a 2\n",
            "aa 1\n",
            "b 9\n",
            "c 0.5\n",
            "d 16\n",
            "e 0\n",
            "f 6.0\n"
          ]
        }
      ]
    },
    {
      "cell_type": "markdown",
      "source": [
        "### Operator Komparasi"
      ],
      "metadata": {
        "id": "ADCZSgl-eHMw"
      }
    },
    {
      "cell_type": "code",
      "source": [
        "# SAMA DENGAN\n",
        "print(1 == 1)\n",
        "\n",
        "# TIDAK SAMA DENGAN\n",
        "print(2 != 2)\n",
        "\n",
        "# LEBIH BESAR DARI\n",
        "print(5 > 3)\n",
        "\n",
        "# LEBIH KECIL DARI\n",
        "print(5 < 3)\n",
        "\n",
        "# LEBIH BESAR DARI SAMA DENGAN\n",
        "print(5 >= 3)\n",
        "\n",
        "# LEBIH KECIL DARI SAMA DENGAN\n",
        "print(5 <= 3)"
      ],
      "metadata": {
        "id": "tObYzxAGeJM9"
      },
      "execution_count": null,
      "outputs": []
    },
    {
      "cell_type": "markdown",
      "source": [
        "### Operator Penugasan"
      ],
      "metadata": {
        "id": "p0-vI7xSeWia"
      }
    },
    {
      "cell_type": "code",
      "source": [
        "# Operator Penugasan Dasar\n",
        "a = 10  # Menetapkan nilai 10 ke variabel a\n",
        "print(\"Nilai a:\", a)\n",
        "\n",
        "# Operator Penugasan dengan Penjumlahan\n",
        "a += 5  # Sama dengan a = a + 5\n",
        "print(a)\n",
        "\n",
        "# Operator Penugasan dengan Pengurangan\n",
        "a -= 3  # Sama dengan a = a - 3\n",
        "print(\"Nilai a setelah a -= 3:\", a)\n",
        "\n",
        "# Operator Penugasan dengan Perkalian\n",
        "a *= 2  # Sama dengan a = a * 2\n",
        "print(\"Nilai a setelah a *= 2:\", a)\n",
        "\n",
        "# Operator Penugasan dengan Pembagian\n",
        "a /= 4  # Sama dengan a = a / 4\n",
        "print(\"Nilai a setelah a /= 4:\", a)\n",
        "\n",
        "# Operator Penugasan dengan Pembagian Modulus (Sisa Bagi)\n",
        "a %= 3  # Sama dengan a = a % 3\n",
        "print(\"Nilai a setelah a %= 3:\", a)\n",
        "\n",
        "# Operator Penugasan dengan Pembagian Bilangan Bulat\n",
        "a //= 2  # Sama dengan a = a // 2\n",
        "print(\"Nilai a setelah a //= 2:\", a)\n",
        "\n",
        "# Operator Penugasan dengan Pangkat\n",
        "a **= 3  # Sama dengan a = a ** 3\n",
        "print(\"Nilai a setelah a **= 3:\", a)"
      ],
      "metadata": {
        "colab": {
          "base_uri": "https://localhost:8080/"
        },
        "id": "oKjkudjtfWO6",
        "outputId": "c2d8f41d-42b4-4b22-cdc2-47f5749b2348"
      },
      "execution_count": null,
      "outputs": [
        {
          "output_type": "stream",
          "name": "stdout",
          "text": [
            "Nilai a: 10\n",
            "15\n",
            "Nilai a setelah a -= 3: 12\n",
            "Nilai a setelah a *= 2: 24\n",
            "Nilai a setelah a /= 4: 6.0\n",
            "Nilai a setelah a %= 3: 0.0\n",
            "Nilai a setelah a //= 2: 0.0\n",
            "Nilai a setelah a **= 3: 0.0\n"
          ]
        }
      ]
    },
    {
      "cell_type": "markdown",
      "source": [
        "## Kondisi"
      ],
      "metadata": {
        "id": "Njjhzh-nf2vq"
      }
    },
    {
      "cell_type": "markdown",
      "source": [
        "Pengambilan keputusan (kondisi if) digunakan untuk mengantisipasi kondisi yang terjadi saat jalanya program dan menentukan tindakan apa yang akan diambil sesuai dengan kondisi.\n",
        "\n",
        "Pada python ada beberapa statement/kondisi diantaranya adalah if, else dan elif Kondisi if digunakan untuk mengeksekusi kode jika kondisi bernilai benar True.\n",
        "\n",
        "Jika kondisi bernilai salah False maka statement/kondisi if tidak akan di-eksekusi."
      ],
      "metadata": {
        "id": "BdkGaOorgcFQ"
      }
    },
    {
      "cell_type": "code",
      "source": [
        "a = 25\n",
        "\n",
        "if (a%2)  == 0:\n",
        "  print('Variabel a berisi angka genap')\n",
        "else :\n",
        "  print('Variabel a berisi angka ganjil')"
      ],
      "metadata": {
        "colab": {
          "base_uri": "https://localhost:8080/"
        },
        "id": "oleu-NBFgcqy",
        "outputId": "b6fa3a6a-cac1-4d3e-e88c-fa2fc3de4050"
      },
      "execution_count": null,
      "outputs": [
        {
          "output_type": "stream",
          "name": "stdout",
          "text": [
            "Variabel a berisi angka ganjil\n"
          ]
        }
      ]
    },
    {
      "cell_type": "markdown",
      "source": [
        "Pengambilan keputusan (kondisi if elif) merupakan lanjutan/percabangan logika dari \"kondisi if\". Dengan elif kita bisa membuat kode program yang akan menyeleksi beberapa kemungkinan yang bisa terjadi. Hampir sama dengan kondisi \"else\", bedanya kondisi \"elif\" bisa banyak dan tidak hanya satu."
      ],
      "metadata": {
        "id": "5e0EfZc0g6AP"
      }
    },
    {
      "cell_type": "code",
      "source": [
        "nilai = float(input(\"masukan nilai anda \"))\n",
        "\n",
        "if nilai > 80:\n",
        "  print('Pertahankan Terus')\n",
        "elif nilai > 70 :\n",
        "  print('Tingkatkan Lagi')\n",
        "elif nilai > 50:\n",
        "  print('Jangan kebanyakan main')\n",
        "elif nilai < 50 :\n",
        "  print('Bolos Mulu')\n",
        "elif nilai == 0 :\n",
        "  print('Ketemu lagi Tahun depan ya...')\n",
        "else:\n",
        "  print('Nilai Tidak Keluar')"
      ],
      "metadata": {
        "id": "fbemhUg2gx3Q"
      },
      "execution_count": null,
      "outputs": []
    },
    {
      "cell_type": "markdown",
      "source": [
        "## Loop"
      ],
      "metadata": {
        "id": "nEL_c13ahiyU"
      }
    },
    {
      "cell_type": "markdown",
      "source": [
        "### While loop"
      ],
      "metadata": {
        "id": "jyD47JqPiKVD"
      }
    },
    {
      "cell_type": "markdown",
      "source": [
        "Pengulangan While Loop di dalam bahasa pemrograman Python dieksesusi statement berkali-kali selama kondisi bernilai benar atau True."
      ],
      "metadata": {
        "id": "e-oit87XiJRI"
      }
    },
    {
      "cell_type": "code",
      "source": [
        "#Contoh While Loop\n",
        "count = 0\n",
        "while count < 9:\n",
        "  print (\"The count is: \", count)\n",
        "  count = count + 1\n",
        "\n",
        "print (\"Good bye!\")"
      ],
      "metadata": {
        "colab": {
          "base_uri": "https://localhost:8080/"
        },
        "id": "o5qiiYLhjSDA",
        "outputId": "36e83637-79aa-49b2-8e8c-f44adf6ed539"
      },
      "execution_count": null,
      "outputs": [
        {
          "output_type": "stream",
          "name": "stdout",
          "text": [
            "The count is:  0\n",
            "The count is:  1\n",
            "The count is:  2\n",
            "The count is:  3\n",
            "The count is:  4\n",
            "The count is:  5\n",
            "The count is:  6\n",
            "The count is:  7\n",
            "The count is:  8\n",
            "Good bye!\n"
          ]
        }
      ]
    },
    {
      "cell_type": "markdown",
      "source": [
        "### For loop"
      ],
      "metadata": {
        "id": "Tm49RoN1hkZe"
      }
    },
    {
      "cell_type": "markdown",
      "source": [
        "Pengulangan for pada Python memiliki kemampuan untuk mengulangi item dari urutan."
      ],
      "metadata": {
        "id": "r2Uo5K_xhrZE"
      }
    },
    {
      "cell_type": "code",
      "source": [
        "#Contoh pengulangan for sederhana\n",
        "angka = [1,2,3,4,5]\n",
        "for x in angka:\n",
        "  print(x)"
      ],
      "metadata": {
        "id": "jpi7eVeWhxK_"
      },
      "execution_count": null,
      "outputs": []
    },
    {
      "cell_type": "code",
      "source": [
        "#Contoh pengulangan for\n",
        "buah = [\"nanas\", \"apel\", \"jeruk\"]\n",
        "for makanan in buah:\n",
        "  print (\"Saya suka makan\", makanan)"
      ],
      "metadata": {
        "colab": {
          "base_uri": "https://localhost:8080/"
        },
        "id": "4Eh2HH0gh118",
        "outputId": "b7b8c5ca-e9b3-43f2-d800-54a445b597c9"
      },
      "execution_count": null,
      "outputs": [
        {
          "output_type": "stream",
          "name": "stdout",
          "text": [
            "Saya suka makan nanas\n",
            "Saya suka makan apel\n",
            "Saya suka makan jeruk\n"
          ]
        }
      ]
    },
    {
      "cell_type": "markdown",
      "source": [
        "in range digunakan untuk mengulang eksekusi blok kode dengan jumlah iterasi tertentu."
      ],
      "metadata": {
        "id": "oMJuELJEiMsw"
      }
    },
    {
      "cell_type": "code",
      "source": [
        "# Perulangan dari 2 hingga 5\n",
        "# range(start, stop)\n",
        "for i in range(2, 6):\n",
        "    print(i)"
      ],
      "metadata": {
        "id": "MSVsobqAitJ4"
      },
      "execution_count": null,
      "outputs": []
    },
    {
      "cell_type": "code",
      "source": [
        "# Perulangan dari 1 hingga 9 dengan kelipatan 2\n",
        "# range(start, stop, step)\n",
        "for i in range(1, 10, 2):\n",
        "    print(i)"
      ],
      "metadata": {
        "id": "3USBuKImi8wx"
      },
      "execution_count": null,
      "outputs": []
    },
    {
      "cell_type": "code",
      "source": [
        "# Perulangan dari 0 hingga 4\n",
        "# range(stop), hingga stop -1\n",
        "for i in range(5):\n",
        "    print(i)"
      ],
      "metadata": {
        "id": "HKzUmYkjiifB"
      },
      "execution_count": null,
      "outputs": []
    },
    {
      "cell_type": "markdown",
      "source": [],
      "metadata": {
        "id": "JxPa5BirJ8Sh"
      }
    },
    {
      "cell_type": "markdown",
      "source": [
        "# **Intermediate python**"
      ],
      "metadata": {
        "id": "Wn9Bcegd-sKQ"
      }
    },
    {
      "cell_type": "markdown",
      "source": [
        "Refrensi : https://revou.co/panduan-teknis/library-python"
      ],
      "metadata": {
        "id": "pXuf6qxEEsn8"
      }
    },
    {
      "cell_type": "markdown",
      "source": [
        "## **Library**"
      ],
      "metadata": {
        "id": "OLiFePhp-0hs"
      }
    },
    {
      "cell_type": "markdown",
      "source": [
        "Library adalah kumpulan kode yang menyediakan fungsionalitas tertentu untuk digunakan dalam aplikasi lain. Dalam konteks Python, library biasanya terdiri dari beberapa module dan package yang bekerja bersama untuk menyediakan sekumpulan fungsionalitas."
      ],
      "metadata": {
        "id": "KdsEkVm1CslI"
      }
    },
    {
      "cell_type": "markdown",
      "source": [
        "### Math"
      ],
      "metadata": {
        "id": "xv-xTy9_Cy2r"
      }
    },
    {
      "cell_type": "markdown",
      "source": [
        "Library math di Python adalah salah satu library bawaan (tidak perlu di install lagi) yang menyediakan fungsi matematika untuk operasi numerik dasar dan kompleks.\n",
        "\n",
        "Berikut beberapa fitur dan fungsionalitas yang disediakan oleh library math:\n",
        "1. Fungsi aritmatika dasar: fungsi untuk melakukan tugas seperti pow(x, y) untuk perpangkatan, sqrt(x) untuk akar kuadrat, dan fabs(x) untuk nilai absolut.\n",
        "2. Fungsi trigonometri: fungsi yang memungkinkan perhitungan trigonometri, seperti sin(x), cos(x), tan(x). Ada juga fungsi untuk konversi antara derajat dan radian.\n",
        "Konstanta: library menyediakan konstanta matematika seperti pi dan e.\n",
        "3. Fungsi logaritma: dengan log(x, [base]), kamu dapat menghitung logaritma natural atau logaritma dengan basis yang ditentukan.\n",
        "4. Fungsi Hiperbolik: dipakai untuk perhitungan dengan fungsi hiperbolik, seperti sinh(x), cosh(x), dan tanh(x).\n",
        "5. Fungsi pembulatan: digunakan untuk pembulatan ke atas atau ke bawah, seperti ceil(x) dan floor(x) .\n",
        "6. Fungsi kombinatorial: dipakai untuk menghitung faktorial dari suatu angka, seperti factorial(x).\n",
        "7. Fungsi Khusus: untuk menghitung faktor persekutuan terbesar dari dua angka, seperti gcd(a, b).\n",
        "\n",
        "https://docs.python.org/3/library/math.html#"
      ],
      "metadata": {
        "id": "HrHJ-yGHC0TJ"
      }
    },
    {
      "cell_type": "code",
      "source": [
        "import math\n",
        "\n",
        "# Menghitung akar kuadrat dari 16\n",
        "hasil_sqrt = math.sqrt(16)\n",
        "print(f\"Akar kuadrat dari 16: {hasil_sqrt}\")\n",
        "\n",
        "# Menghitung 2 pangkat 3 (2^3)\n",
        "hasil_pow = math.pow(2, 3)\n",
        "print(f\"2 pangkat 3: {hasil_pow}\")\n",
        "\n",
        "# Menghitung sin(90 derajat) (konversi dari derajat ke radian)\n",
        "rad = math.radians(90)\n",
        "hasil_sin = math.sin(rad)\n",
        "print(f\"Sin(90 derajat): {hasil_sin}\")\n",
        "\n",
        "# Mengambil nilai pi\n",
        "nilai_pi = math.pi\n",
        "print(f\"Nilai pi: {nilai_pi}\")\n",
        "\n",
        "# Menghitung logaritma basis 10 dari 1000\n",
        "hasil_log = math.log10(1000)\n",
        "print(f\"Logaritma basis 10 dari 1000: {hasil_log}\")\n",
        "\n",
        "# Pembulatan ke bawah dan ke atas dari angka 4.7\n",
        "hasil_floor = math.floor(4.7)\n",
        "hasil_ceil = math.ceil(4.7)\n",
        "print(f\"Pembulatan ke bawah dari 4.7: {hasil_floor}\")\n",
        "print(f\"Pembulatan ke atas dari 4.7: {hasil_ceil}\")\n"
      ],
      "metadata": {
        "id": "KTqHW29yCqSM"
      },
      "execution_count": null,
      "outputs": []
    },
    {
      "cell_type": "markdown",
      "source": [
        "### Numpy"
      ],
      "metadata": {
        "id": "ZfzjjToG-4f4"
      }
    },
    {
      "cell_type": "markdown",
      "source": [
        "Numerical Python atau disingkat NumPy adalah library untuk keperluan komputasi numerik dan ilmiah. Dengan NumPy, operasi matematika dan ilmiah pada angka atau array angka menjadi jauh lebih efisien dan mudah.\n",
        "\n",
        "Berikut fitur-fitur utama NumPy yang menjadikannya penting dalam komputasi numerik dan ilmiah:\n",
        "1. Array multidimensi: salah satu fitur utama NumPy adalah objek ndarray, sebuah array multidimensi yang memungkinkan penyimpanan dan operasi pada data dalam format vektor dan matriks. Berbeda dengan list Python biasa, ndarray dioptimalkan untuk performa tinggi, memungkinkan operasi cepat pada data besar.\n",
        "2. Operasi vektorisasi: NumPy memungkinkan vektorisasi,. Artinya, kamu dapat menerapkan operasi pada seluruh array tanpa perlu loop. Hal ini tidak hanya membuat kode lebih singkat dan mudah dibaca, tetapi juga jauh lebih cepat karena operasi dioptimalkan dan dikompilasi di belakang layar.\n",
        "3. Fungsi matematika terpadu: NumPy dilengkapi dengan sejumlah besar fungsi matematika, seperti operasi aljabar linier, transformasi Fourier, dan fungsi statistik yang semuanya telah dioptimalkan untuk kecepatan.\n",
        "\n",
        "https://numpy.org/doc/stable/user/basics.html"
      ],
      "metadata": {
        "id": "XXYZUaSjDmCs"
      }
    },
    {
      "cell_type": "code",
      "source": [
        "import numpy as np\n",
        "\n",
        "# Membuat array 1D dan 2D\n",
        "array_1d = np.array([1, 2, 3, 4, 5])\n",
        "print(f\"Array 1D: {array_1d}\")\n",
        "\n",
        "array_2d = np.array([[1, 2, 3], [4, 5, 6]])\n",
        "print(f\"Array 2D:\\n{array_2d}\")\n",
        "\n",
        "# Membuat array dengan nilai nol dan satu\n",
        "zeros_array = np.zeros((3, 3))\n",
        "print(f\"Array 3x3 dengan nol:\\n{zeros_array}\")\n",
        "\n",
        "ones_array = np.ones((2, 4))\n",
        "print(f\"Array 2x4 dengan satu:\\n{ones_array}\")\n",
        "\n",
        "# Membuat array dengan rentang nilai\n",
        "arange_array = np.arange(10)\n",
        "print(f\"Array dengan nilai dari 0 hingga 9: {arange_array}\")\n",
        "\n",
        "linspace_array = np.linspace(0, 1, 5)\n",
        "print(f\"Array dengan nilai antara 0 hingga 1, dibagi rata 5 nilai: {linspace_array}\")\n",
        "\n",
        "# Operasi matematika pada array\n",
        "array = np.array([1, 2, 3, 4])\n",
        "\n",
        "tambah_array = array + 2\n",
        "print(f\"Array setelah ditambah 2: {tambah_array}\")\n",
        "\n",
        "array2 = np.array([10, 20, 30, 40])\n",
        "hasil_tambah = array + array2\n",
        "print(f\"Penjumlahan dua array: {hasil_tambah}\")\n",
        "\n",
        "kuadrat_array = array ** 2\n",
        "print(f\"Kuadrat dari array: {kuadrat_array}\")\n",
        "\n",
        "# Operasi statistik dasar\n",
        "stat_array = np.array([1, 2, 3, 4, 5])\n",
        "\n",
        "rata_rata = np.mean(stat_array)\n",
        "print(f\"Rata-rata: {rata_rata}\")\n",
        "\n",
        "nilai_max = np.max(stat_array)\n",
        "nilai_min = np.min(stat_array)\n",
        "print(f\"Nilai maksimum: {nilai_max}, nilai minimum: {nilai_min}\")\n",
        "\n",
        "std_dev = np.std(stat_array)\n",
        "print(f\"Standar deviasi: {std_dev}\")\n",
        "\n",
        "# Reshape array\n",
        "reshape_array = np.arange(6).reshape((2, 3))\n",
        "print(f\"Array 2x3 setelah di-reshape:\\n{reshape_array}\")\n",
        "\n",
        "# Operasi dot product (perkalian matriks)\n",
        "matrix_a = np.array([[1, 2], [3, 4]])\n",
        "matrix_b = np.array([[5, 6], [7, 8]])\n",
        "\n",
        "dot_product = np.dot(matrix_a, matrix_b)\n",
        "print(f\"Dot product dari dua matriks:\\n{dot_product}\")"
      ],
      "metadata": {
        "id": "YvwcQtW8Eaag"
      },
      "execution_count": null,
      "outputs": []
    },
    {
      "cell_type": "markdown",
      "source": [
        "### Pandas"
      ],
      "metadata": {
        "id": "lsr4r7yR-7y3"
      }
    },
    {
      "cell_type": "markdown",
      "source": [
        "Pandas adalah library Python yang berfungsi untuk manipulasi dan analisis data, terutama data tabular seperti yang sering ditemui dalam spreadsheet atau relational database.\n",
        "\n",
        "Pandas memiliki beberapa fitur utama:\n",
        "\n",
        "1. Struktur data: Pandas menyediakan dua struktur data utama, yaitu Series dan DataFrame. Series adalah array satu dimensi yang dapat menyimpan berbagai jenis data. Sementara DataFrame adalah struktur data dua dimensi (mirip dengan tabel di database atau spreadsheet) yang memungkinkan kamu menyimpan dan mengakses data dengan format baris dan kolom.\n",
        "2. Data cleaning: data yang kamu hadapi sering kali tidak sempurna. Mungkin ada data yang hilang, duplikat, atau tidak konsisten. Pandas menyediakan fungsi untuk mengatasi masalah ini, seperti dropna() untuk menghapus data yang hilang, fillna() untuk mengisi data yang hilang, dan drop_duplicates() untuk menghapus data duplikat.\n",
        "3. Transformasi data: Dengan Pandas, kamu dapat dengan mudah mengubah bentuk data, menggabungkan beberapa set data, atau mengelompokkan data berdasarkan kriteria tertentu. Fungsi seperti pivot(), melt(), groupby(), dan merge() memudahkan proses transformasi data sesuai kebutuhan analisis.\n",
        "4. Analisis data: Pandas juga dilengkapi dengan berbagai metode statistik yang memudahkan analisis data. Kamu bisa dengan cepat mendapatkan ringkasan statistik dari data dengan describe(), menghitung korelasi antar kolom dengan corr(), atau bahkan melakukan operasi yang lebih kompleks seperti agregasi dengan agg().\n",
        "5. Kemudahan dalam impor/ekspor data: salah satu kelebihan Pandas adalah kemampuannya untuk bekerja dengan berbagai format data. Kamu bisa dengan mudah mengimpor data dari CSV, Excel, SQL, dan banyak format lainnya menggunakan fungsi seperti read_csv(). Begitu juga saat menyimpan data, Pandas menyediakan metode seperti to_csv() yang memudahkan menyimpan hasil analisis.\n",
        "\n",
        "https://pandas.pydata.org/docs/user_guide/dsintro.html"
      ],
      "metadata": {
        "id": "WUAf2B2gEW5k"
      }
    },
    {
      "cell_type": "code",
      "source": [
        "# Membaca data\n",
        "import pandas as pd\n",
        "from google.colab import drive\n",
        "drive.mount('/content/drive')\n",
        "dataset_credit_scoring = pd.read_table('/content/drive/My Drive/Pelatihan Machine Learning/HTR10A.txt')"
      ],
      "metadata": {
        "colab": {
          "base_uri": "https://localhost:8080/"
        },
        "id": "b1TFgIS6BsSU",
        "outputId": "dcc5b843-60cc-4871-fb2e-1b66eaf5952d"
      },
      "execution_count": null,
      "outputs": [
        {
          "output_type": "stream",
          "name": "stdout",
          "text": [
            "Drive already mounted at /content/drive; to attempt to forcibly remount, call drive.mount(\"/content/drive\", force_remount=True).\n"
          ]
        }
      ]
    },
    {
      "cell_type": "code",
      "source": [
        "dataset_credit_scoring"
      ],
      "metadata": {
        "colab": {
          "base_uri": "https://localhost:8080/",
          "height": 423
        },
        "id": "PNjIVLB9Ceio",
        "outputId": "19ac8256-f462-4ce3-963e-ad6061fc631d"
      },
      "execution_count": null,
      "outputs": [
        {
          "output_type": "execute_result",
          "data": {
            "text/plain": [
              "      1                                                                              OUTPUT UNIT =  8                        PAGE    6\n",
              "0              NEUTRON YIELD PER NEUTRON-INDUCED FISSION                                                                              \n",
              "1           NUCLIDE     YIELD     NUCLIDE     YIELD  ...                                                                              \n",
              "2      0      832090     .0000      882230     .0000 ...                                                                              \n",
              "3      0      902280     .0000      902290    2.0490 ...                                                                              \n",
              "4      0      912310     .0000      912320     .0000 ...                                                                              \n",
              "...                                                  ...                                                                              \n",
              "27915  +                                             ...                                                                              \n",
              "27916  +                                             ...                                                                              \n",
              "27917  +                                             ...                                                                              \n",
              "27918   CE142      2.154E-12 2.154E-12 2.154E-12 2.15...                                                                              \n",
              "27919   SM147      1.970E-13 2.987E-13 3.767E-13 4.36...                                                                              \n",
              "\n",
              "[27920 rows x 1 columns]"
            ],
            "text/html": [
              "\n",
              "  <div id=\"df-b5dfb24c-e6a6-4cfc-9982-542837700951\" class=\"colab-df-container\">\n",
              "    <div>\n",
              "<style scoped>\n",
              "    .dataframe tbody tr th:only-of-type {\n",
              "        vertical-align: middle;\n",
              "    }\n",
              "\n",
              "    .dataframe tbody tr th {\n",
              "        vertical-align: top;\n",
              "    }\n",
              "\n",
              "    .dataframe thead th {\n",
              "        text-align: right;\n",
              "    }\n",
              "</style>\n",
              "<table border=\"1\" class=\"dataframe\">\n",
              "  <thead>\n",
              "    <tr style=\"text-align: right;\">\n",
              "      <th></th>\n",
              "      <th>1                                                                              OUTPUT UNIT =  8                        PAGE    6</th>\n",
              "    </tr>\n",
              "  </thead>\n",
              "  <tbody>\n",
              "    <tr>\n",
              "      <th>0</th>\n",
              "      <td>NEUTRON YIELD PER NEUTRON-INDUCED FISSION</td>\n",
              "    </tr>\n",
              "    <tr>\n",
              "      <th>1</th>\n",
              "      <td>NUCLIDE     YIELD     NUCLIDE     YIELD  ...</td>\n",
              "    </tr>\n",
              "    <tr>\n",
              "      <th>2</th>\n",
              "      <td>0      832090     .0000      882230     .0000 ...</td>\n",
              "    </tr>\n",
              "    <tr>\n",
              "      <th>3</th>\n",
              "      <td>0      902280     .0000      902290    2.0490 ...</td>\n",
              "    </tr>\n",
              "    <tr>\n",
              "      <th>4</th>\n",
              "      <td>0      912310     .0000      912320     .0000 ...</td>\n",
              "    </tr>\n",
              "    <tr>\n",
              "      <th>...</th>\n",
              "      <td>...</td>\n",
              "    </tr>\n",
              "    <tr>\n",
              "      <th>27915</th>\n",
              "      <td>+                                             ...</td>\n",
              "    </tr>\n",
              "    <tr>\n",
              "      <th>27916</th>\n",
              "      <td>+                                             ...</td>\n",
              "    </tr>\n",
              "    <tr>\n",
              "      <th>27917</th>\n",
              "      <td>+                                             ...</td>\n",
              "    </tr>\n",
              "    <tr>\n",
              "      <th>27918</th>\n",
              "      <td>CE142      2.154E-12 2.154E-12 2.154E-12 2.15...</td>\n",
              "    </tr>\n",
              "    <tr>\n",
              "      <th>27919</th>\n",
              "      <td>SM147      1.970E-13 2.987E-13 3.767E-13 4.36...</td>\n",
              "    </tr>\n",
              "  </tbody>\n",
              "</table>\n",
              "<p>27920 rows × 1 columns</p>\n",
              "</div>\n",
              "    <div class=\"colab-df-buttons\">\n",
              "\n",
              "  <div class=\"colab-df-container\">\n",
              "    <button class=\"colab-df-convert\" onclick=\"convertToInteractive('df-b5dfb24c-e6a6-4cfc-9982-542837700951')\"\n",
              "            title=\"Convert this dataframe to an interactive table.\"\n",
              "            style=\"display:none;\">\n",
              "\n",
              "  <svg xmlns=\"http://www.w3.org/2000/svg\" height=\"24px\" viewBox=\"0 -960 960 960\">\n",
              "    <path d=\"M120-120v-720h720v720H120Zm60-500h600v-160H180v160Zm220 220h160v-160H400v160Zm0 220h160v-160H400v160ZM180-400h160v-160H180v160Zm440 0h160v-160H620v160ZM180-180h160v-160H180v160Zm440 0h160v-160H620v160Z\"/>\n",
              "  </svg>\n",
              "    </button>\n",
              "\n",
              "  <style>\n",
              "    .colab-df-container {\n",
              "      display:flex;\n",
              "      gap: 12px;\n",
              "    }\n",
              "\n",
              "    .colab-df-convert {\n",
              "      background-color: #E8F0FE;\n",
              "      border: none;\n",
              "      border-radius: 50%;\n",
              "      cursor: pointer;\n",
              "      display: none;\n",
              "      fill: #1967D2;\n",
              "      height: 32px;\n",
              "      padding: 0 0 0 0;\n",
              "      width: 32px;\n",
              "    }\n",
              "\n",
              "    .colab-df-convert:hover {\n",
              "      background-color: #E2EBFA;\n",
              "      box-shadow: 0px 1px 2px rgba(60, 64, 67, 0.3), 0px 1px 3px 1px rgba(60, 64, 67, 0.15);\n",
              "      fill: #174EA6;\n",
              "    }\n",
              "\n",
              "    .colab-df-buttons div {\n",
              "      margin-bottom: 4px;\n",
              "    }\n",
              "\n",
              "    [theme=dark] .colab-df-convert {\n",
              "      background-color: #3B4455;\n",
              "      fill: #D2E3FC;\n",
              "    }\n",
              "\n",
              "    [theme=dark] .colab-df-convert:hover {\n",
              "      background-color: #434B5C;\n",
              "      box-shadow: 0px 1px 3px 1px rgba(0, 0, 0, 0.15);\n",
              "      filter: drop-shadow(0px 1px 2px rgba(0, 0, 0, 0.3));\n",
              "      fill: #FFFFFF;\n",
              "    }\n",
              "  </style>\n",
              "\n",
              "    <script>\n",
              "      const buttonEl =\n",
              "        document.querySelector('#df-b5dfb24c-e6a6-4cfc-9982-542837700951 button.colab-df-convert');\n",
              "      buttonEl.style.display =\n",
              "        google.colab.kernel.accessAllowed ? 'block' : 'none';\n",
              "\n",
              "      async function convertToInteractive(key) {\n",
              "        const element = document.querySelector('#df-b5dfb24c-e6a6-4cfc-9982-542837700951');\n",
              "        const dataTable =\n",
              "          await google.colab.kernel.invokeFunction('convertToInteractive',\n",
              "                                                    [key], {});\n",
              "        if (!dataTable) return;\n",
              "\n",
              "        const docLinkHtml = 'Like what you see? Visit the ' +\n",
              "          '<a target=\"_blank\" href=https://colab.research.google.com/notebooks/data_table.ipynb>data table notebook</a>'\n",
              "          + ' to learn more about interactive tables.';\n",
              "        element.innerHTML = '';\n",
              "        dataTable['output_type'] = 'display_data';\n",
              "        await google.colab.output.renderOutput(dataTable, element);\n",
              "        const docLink = document.createElement('div');\n",
              "        docLink.innerHTML = docLinkHtml;\n",
              "        element.appendChild(docLink);\n",
              "      }\n",
              "    </script>\n",
              "  </div>\n",
              "\n",
              "\n",
              "<div id=\"df-f696ce15-92f8-4db8-8749-0bfff52703dd\">\n",
              "  <button class=\"colab-df-quickchart\" onclick=\"quickchart('df-f696ce15-92f8-4db8-8749-0bfff52703dd')\"\n",
              "            title=\"Suggest charts\"\n",
              "            style=\"display:none;\">\n",
              "\n",
              "<svg xmlns=\"http://www.w3.org/2000/svg\" height=\"24px\"viewBox=\"0 0 24 24\"\n",
              "     width=\"24px\">\n",
              "    <g>\n",
              "        <path d=\"M19 3H5c-1.1 0-2 .9-2 2v14c0 1.1.9 2 2 2h14c1.1 0 2-.9 2-2V5c0-1.1-.9-2-2-2zM9 17H7v-7h2v7zm4 0h-2V7h2v10zm4 0h-2v-4h2v4z\"/>\n",
              "    </g>\n",
              "</svg>\n",
              "  </button>\n",
              "\n",
              "<style>\n",
              "  .colab-df-quickchart {\n",
              "      --bg-color: #E8F0FE;\n",
              "      --fill-color: #1967D2;\n",
              "      --hover-bg-color: #E2EBFA;\n",
              "      --hover-fill-color: #174EA6;\n",
              "      --disabled-fill-color: #AAA;\n",
              "      --disabled-bg-color: #DDD;\n",
              "  }\n",
              "\n",
              "  [theme=dark] .colab-df-quickchart {\n",
              "      --bg-color: #3B4455;\n",
              "      --fill-color: #D2E3FC;\n",
              "      --hover-bg-color: #434B5C;\n",
              "      --hover-fill-color: #FFFFFF;\n",
              "      --disabled-bg-color: #3B4455;\n",
              "      --disabled-fill-color: #666;\n",
              "  }\n",
              "\n",
              "  .colab-df-quickchart {\n",
              "    background-color: var(--bg-color);\n",
              "    border: none;\n",
              "    border-radius: 50%;\n",
              "    cursor: pointer;\n",
              "    display: none;\n",
              "    fill: var(--fill-color);\n",
              "    height: 32px;\n",
              "    padding: 0;\n",
              "    width: 32px;\n",
              "  }\n",
              "\n",
              "  .colab-df-quickchart:hover {\n",
              "    background-color: var(--hover-bg-color);\n",
              "    box-shadow: 0 1px 2px rgba(60, 64, 67, 0.3), 0 1px 3px 1px rgba(60, 64, 67, 0.15);\n",
              "    fill: var(--button-hover-fill-color);\n",
              "  }\n",
              "\n",
              "  .colab-df-quickchart-complete:disabled,\n",
              "  .colab-df-quickchart-complete:disabled:hover {\n",
              "    background-color: var(--disabled-bg-color);\n",
              "    fill: var(--disabled-fill-color);\n",
              "    box-shadow: none;\n",
              "  }\n",
              "\n",
              "  .colab-df-spinner {\n",
              "    border: 2px solid var(--fill-color);\n",
              "    border-color: transparent;\n",
              "    border-bottom-color: var(--fill-color);\n",
              "    animation:\n",
              "      spin 1s steps(1) infinite;\n",
              "  }\n",
              "\n",
              "  @keyframes spin {\n",
              "    0% {\n",
              "      border-color: transparent;\n",
              "      border-bottom-color: var(--fill-color);\n",
              "      border-left-color: var(--fill-color);\n",
              "    }\n",
              "    20% {\n",
              "      border-color: transparent;\n",
              "      border-left-color: var(--fill-color);\n",
              "      border-top-color: var(--fill-color);\n",
              "    }\n",
              "    30% {\n",
              "      border-color: transparent;\n",
              "      border-left-color: var(--fill-color);\n",
              "      border-top-color: var(--fill-color);\n",
              "      border-right-color: var(--fill-color);\n",
              "    }\n",
              "    40% {\n",
              "      border-color: transparent;\n",
              "      border-right-color: var(--fill-color);\n",
              "      border-top-color: var(--fill-color);\n",
              "    }\n",
              "    60% {\n",
              "      border-color: transparent;\n",
              "      border-right-color: var(--fill-color);\n",
              "    }\n",
              "    80% {\n",
              "      border-color: transparent;\n",
              "      border-right-color: var(--fill-color);\n",
              "      border-bottom-color: var(--fill-color);\n",
              "    }\n",
              "    90% {\n",
              "      border-color: transparent;\n",
              "      border-bottom-color: var(--fill-color);\n",
              "    }\n",
              "  }\n",
              "</style>\n",
              "\n",
              "  <script>\n",
              "    async function quickchart(key) {\n",
              "      const quickchartButtonEl =\n",
              "        document.querySelector('#' + key + ' button');\n",
              "      quickchartButtonEl.disabled = true;  // To prevent multiple clicks.\n",
              "      quickchartButtonEl.classList.add('colab-df-spinner');\n",
              "      try {\n",
              "        const charts = await google.colab.kernel.invokeFunction(\n",
              "            'suggestCharts', [key], {});\n",
              "      } catch (error) {\n",
              "        console.error('Error during call to suggestCharts:', error);\n",
              "      }\n",
              "      quickchartButtonEl.classList.remove('colab-df-spinner');\n",
              "      quickchartButtonEl.classList.add('colab-df-quickchart-complete');\n",
              "    }\n",
              "    (() => {\n",
              "      let quickchartButtonEl =\n",
              "        document.querySelector('#df-f696ce15-92f8-4db8-8749-0bfff52703dd button');\n",
              "      quickchartButtonEl.style.display =\n",
              "        google.colab.kernel.accessAllowed ? 'block' : 'none';\n",
              "    })();\n",
              "  </script>\n",
              "</div>\n",
              "\n",
              "  <div id=\"id_32a36008-3804-4211-8f43-8188839bd264\">\n",
              "    <style>\n",
              "      .colab-df-generate {\n",
              "        background-color: #E8F0FE;\n",
              "        border: none;\n",
              "        border-radius: 50%;\n",
              "        cursor: pointer;\n",
              "        display: none;\n",
              "        fill: #1967D2;\n",
              "        height: 32px;\n",
              "        padding: 0 0 0 0;\n",
              "        width: 32px;\n",
              "      }\n",
              "\n",
              "      .colab-df-generate:hover {\n",
              "        background-color: #E2EBFA;\n",
              "        box-shadow: 0px 1px 2px rgba(60, 64, 67, 0.3), 0px 1px 3px 1px rgba(60, 64, 67, 0.15);\n",
              "        fill: #174EA6;\n",
              "      }\n",
              "\n",
              "      [theme=dark] .colab-df-generate {\n",
              "        background-color: #3B4455;\n",
              "        fill: #D2E3FC;\n",
              "      }\n",
              "\n",
              "      [theme=dark] .colab-df-generate:hover {\n",
              "        background-color: #434B5C;\n",
              "        box-shadow: 0px 1px 3px 1px rgba(0, 0, 0, 0.15);\n",
              "        filter: drop-shadow(0px 1px 2px rgba(0, 0, 0, 0.3));\n",
              "        fill: #FFFFFF;\n",
              "      }\n",
              "    </style>\n",
              "    <button class=\"colab-df-generate\" onclick=\"generateWithVariable('dataset_credit_scoring')\"\n",
              "            title=\"Generate code using this dataframe.\"\n",
              "            style=\"display:none;\">\n",
              "\n",
              "  <svg xmlns=\"http://www.w3.org/2000/svg\" height=\"24px\"viewBox=\"0 0 24 24\"\n",
              "       width=\"24px\">\n",
              "    <path d=\"M7,19H8.4L18.45,9,17,7.55,7,17.6ZM5,21V16.75L18.45,3.32a2,2,0,0,1,2.83,0l1.4,1.43a1.91,1.91,0,0,1,.58,1.4,1.91,1.91,0,0,1-.58,1.4L9.25,21ZM18.45,9,17,7.55Zm-12,3A5.31,5.31,0,0,0,4.9,8.1,5.31,5.31,0,0,0,1,6.5,5.31,5.31,0,0,0,4.9,4.9,5.31,5.31,0,0,0,6.5,1,5.31,5.31,0,0,0,8.1,4.9,5.31,5.31,0,0,0,12,6.5,5.46,5.46,0,0,0,6.5,12Z\"/>\n",
              "  </svg>\n",
              "    </button>\n",
              "    <script>\n",
              "      (() => {\n",
              "      const buttonEl =\n",
              "        document.querySelector('#id_32a36008-3804-4211-8f43-8188839bd264 button.colab-df-generate');\n",
              "      buttonEl.style.display =\n",
              "        google.colab.kernel.accessAllowed ? 'block' : 'none';\n",
              "\n",
              "      buttonEl.onclick = () => {\n",
              "        google.colab.notebook.generateWithVariable('dataset_credit_scoring');\n",
              "      }\n",
              "      })();\n",
              "    </script>\n",
              "  </div>\n",
              "\n",
              "    </div>\n",
              "  </div>\n"
            ],
            "application/vnd.google.colaboratory.intrinsic+json": {
              "type": "dataframe",
              "variable_name": "dataset_credit_scoring",
              "summary": "{\n  \"name\": \"dataset_credit_scoring\",\n  \"rows\": 27920,\n  \"fields\": [\n    {\n      \"column\": \"1                                                                              OUTPUT UNIT =  8                        PAGE    6\",\n      \"properties\": {\n        \"dtype\": \"category\",\n        \"num_unique_values\": 12812,\n        \"samples\": [\n          \"  I132      0.000E+00 0.000E+00 0.000E+00 0.000E+00 0.000E+00 0.000E+00 0.000E+00 0.000E+00 0.000E+00 0.000E+00 0.000E+00\",\n          \" XE139      0.000E+00 1.132E+11 1.145E+11 1.144E+11 1.142E+11 1.141E+11 1.139E+11 1.138E+11 1.137E+11 1.135E+11 0.000E+00\",\n          \" NE 21      0.000E+00 0.000E+00 0.000E+00 0.000E+00 0.000E+00 0.000E+00 0.000E+00 0.000E+00 0.000E+00 0.000E+00 0.000E+00\"\n        ],\n        \"semantic_type\": \"\",\n        \"description\": \"\"\n      }\n    }\n  ]\n}"
            }
          },
          "metadata": {},
          "execution_count": 6
        }
      ]
    },
    {
      "cell_type": "markdown",
      "source": [
        "### Matplotlib"
      ],
      "metadata": {
        "id": "QfJ1SY4M-9K3"
      }
    },
    {
      "cell_type": "markdown",
      "source": [
        "Matplotlib adalah library Python untuk menciptakan visualisasi data yang informatif, menarik, dan mudah dimengerti. Dengan Matplotlib, data yang kompleks dapat disajikan dalam bentuk grafik atau diagram, sehingga memudahkan interpretasi dan pengambilan keputusan.\n",
        "\n",
        "Berikut beberapa kemampuan Matplotlib dalam visualisasi data:\n",
        "\n",
        "1. Membuat line plot: ini adalah jenis visualisasi yang sering digunakan untuk menampilkan tren data sepanjang waktu. Dengan fungsi plot(), kamu bisa dengan mudah membuat grafik garis untuk analisis tren.\n",
        "2. Membuat bar chart: dengan bar() atau barh(), Matplotlib memungkinkan kamu membuat diagram batang vertikal atau horizontal yang cocok untuk membandingkan kuantitas data antar kategori.\n",
        "3. Membuat histogram: cocok untuk memvisualisasikan distribusi data. Histogram memberikan gambaran tentang sebaran data dan frekuensinya.\n",
        "4. Membuat scatter plot: dengan scatter(), kamu dapat memvisualisasikan hubungan antara dua variabel kontinu, sering kali untuk menemukan korelasi atau pola tertentu dalam data.\n",
        "5. Membuat pie chart: pie() memungkinkan kamu memvisualisasikan proporsi kategori dalam keseluruhan data.\n",
        "Membuat box plot: dengan boxplot(), Matplotlib menyediakan cara untuk memvisualisasikan ringkasan statistik dari dataset, seperti median, kuartil, dan outlier.\n",
        "6. Integrasi dengan Pandas: Matplotlib dapat dengan mudah diintegrasikan dengan Pandas, memungkinkan kamu memvisualisasikan DataFrame dan Series dengan mudah.\n",
        "7. Personalisasi: kamu dapat mengontrol hampir setiap aspek dari visualisasi, mulai dari warna, label, judul, hingga legenda, sehingga grafik dapat disesuaikan sesuai kebutuhan.\n",
        "\n",
        "https://matplotlib.org/stable/gallery/index.html\n",
        "\n",
        "Atau bisa juga menggunakan seaborn yang memiliki visualisasi yang lebih estetik https://seaborn.pydata.org/examples/index.html"
      ],
      "metadata": {
        "id": "kJtE_ALZFGz8"
      }
    },
    {
      "cell_type": "code",
      "source": [
        "import matplotlib.pyplot as plt\n",
        "\n",
        "# Fluks 5.83E+13\n",
        "massa = [10, 20, 30, 40, 50, 60, 70, 80, 90, 100]\n",
        "iradiasi_a = [3.77E-01, 7.55E-01, 1.13E+00, 1.51E+00, 1.89E+00, 2.26E+00, 2.64E+00, 3.02E+00, 3.40E+00, 3.77E+00]\n",
        "iradiasi_b = [7.49E-01, 1.50E+00, 2.25E+00, 3.00E+00, 3.74E+00, 4.49E+00, 5.24E+00, 5.99E+00, 6.74E+00, 7.49E+00]\n",
        "iradiasi_c = [1.10E+00, 2.20E+00, 3.30E+00, 4.40E+00, 5.50E+00, 6.60E+00, 7.69E+00, 8.79E+00, 9.89E+00, 1.10E+01]\n",
        "\n",
        "#Grafik\n",
        "fig, ax = plt.subplots()\n",
        "ax.plot(massa, iradiasi_a, 'tab:orange', label='Waktu Iradiasi : 20 Jam', ls='-', marker='*')\n",
        "ax.plot(massa, iradiasi_b, 'tab:red', label='Waktu Iradiasi : 40 Jam', ls='-', marker='*')\n",
        "ax.plot(massa, iradiasi_c, 'tab:pink', label='Waktu Iradiasi : 60 Jam', ls='-', marker='*')\n",
        "plt.title(\"Hasil Produksi Radioisotop I-131 Pada Daya 5MW Posisi CIP (D6)\")\n",
        "plt.xlabel(\"Massa Target TeO2 (gram)\")\n",
        "plt.ylabel(\"Produksi Radioisotop I-131 (Ci)\")\n",
        "plt.legend()\n",
        "plt.grid(color = 'black', linestyle = '--', linewidth = 0.5)\n",
        "plt.figure(dpi=1200)\n",
        "plt.show()"
      ],
      "metadata": {
        "colab": {
          "base_uri": "https://localhost:8080/",
          "height": 489
        },
        "id": "a3Iy__uAD-qA",
        "outputId": "f5729435-f513-4a0f-cdc7-870e155ba3a5"
      },
      "execution_count": null,
      "outputs": [
        {
          "output_type": "display_data",
          "data": {
            "text/plain": [
              "<Figure size 640x480 with 1 Axes>"
            ],
            "image/png": "[encoded data removed]"
          },
          "metadata": {}
        },
        {
          "output_type": "display_data",
          "data": {
            "text/plain": [
              "<Figure size 7680x5760 with 0 Axes>"
            ]
          },
          "metadata": {}
        }
      ]
    },
    {
      "cell_type": "markdown",
      "source": [
        "## **Object Oriented Programming**"
      ],
      "metadata": {
        "id": "6fQK1ek_M5_Y"
      }
    },
    {
      "cell_type": "markdown",
      "source": [
        "https://colab.research.google.com/drive/1a44p2pMwxip1zizXnOIDdDFO2phdXgvj"
      ],
      "metadata": {
        "id": "7V5gVINdM7-T"
      }
    },
    {
      "cell_type": "markdown",
      "source": [
        "# **Contoh program kalkulasi nuklir sederhana dengan menggunakan python**\n"
      ],
      "metadata": {
        "id": "ub3-hbCNIOp4"
      }
    },
    {
      "cell_type": "markdown",
      "source": [
        "Berikut beberapa pemrogramannya:\n",
        "1. https://github.com/dhiyasalmas/Thermal-Hydraulic-On-HTGR-Prismatic/tree/main\n",
        "2. https://github.com/dhiyasalmas/Cogeneration-System-On-HTGR\n",
        "3. https://github.com/dhiyasalmas/Cylinder-Pellets-Distribution-Temperature\n",
        "4. https://github.com/dhiyasalmas/Annular-Fuel-With-Internal-Cooling\n",
        "5. https://github.com/dhiyasalmas/Master-RSG"
      ],
      "metadata": {
        "id": "2w6CwT6JJCwZ"
      }
    }
  ]
}
