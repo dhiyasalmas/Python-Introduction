{
  "nbformat": 4,
  "nbformat_minor": 0,
  "metadata": {
    "colab": {
      "provenance": [],
      "collapsed_sections": [
        "ykLpRpimsLmM",
        "uFpdt5D9sPMQ",
        "W_d_RGf2wz_r",
        "Ou4VIFHsGahQ",
        "3bL20BpyNUXe",
        "Sq7YFh0rRbWh",
        "HcjK6h9iXlSt",
        "F5SHwtrJXsRa"
      ],
      "include_colab_link": true
    },
    "kernelspec": {
      "name": "python3",
      "display_name": "Python 3"
    },
    "language_info": {
      "name": "python"
    }
  },
  "cells": [
    {
      "cell_type": "markdown",
      "metadata": {
        "id": "view-in-github",
        "colab_type": "text"
      },
      "source": [
        "<a href=\"https://colab.research.google.com/github/dhiyasalmas/Python-Introduction/blob/main/Object_Oriented_Programming.ipynb\" target=\"_parent\"><img src=\"https://colab.research.google.com/assets/colab-badge.svg\" alt=\"Open In Colab\"/></a>"
      ]
    },
    {
      "cell_type": "markdown",
      "source": [
        "# **Object-Oriented Programming (OOP)**\n",
        "adalah paradigma pemrograman yang menggunakan konsep \"objek\" untuk mengatur kode. Dalam Python, OOP memungkinkan pemrogram untuk membuat kode yang lebih modular, mudah dipelihara, dan dapat digunakan kembali."
      ],
      "metadata": {
        "id": "KhZeUqFyE18_"
      }
    },
    {
      "cell_type": "markdown",
      "source": [
        "# **Session 1, intro**"
      ],
      "metadata": {
        "id": "ykLpRpimsLmM"
      }
    },
    {
      "cell_type": "markdown",
      "source": [
        "Class mendefinisikan atribut dan metode yang akan dimiliki oleh objek-objek yang dibuat dari class tersebut."
      ],
      "metadata": {
        "id": "oKuLJY-4FLj6"
      }
    },
    {
      "cell_type": "code",
      "execution_count": null,
      "metadata": {
        "id": "tMd7x24MjAqw"
      },
      "outputs": [],
      "source": [
        "#Template\n",
        "class Hero:\n",
        "  pass"
      ]
    },
    {
      "cell_type": "markdown",
      "source": [
        "Object adalah instansiasi (instance) dari sebuah class. Artinya, objek adalah hasil nyata dari sebuah class yang memiliki nilai dari atribut yang sudah didefinisikan dalam class."
      ],
      "metadata": {
        "id": "NuCJaAKYFTex"
      }
    },
    {
      "cell_type": "code",
      "source": [
        "#Object\n",
        "hero1 = Hero()\n",
        "hero2 = Hero()\n",
        "hero3 = Hero()"
      ],
      "metadata": {
        "id": "TYm2js1njGZc"
      },
      "execution_count": null,
      "outputs": []
    },
    {
      "cell_type": "code",
      "source": [
        "hero1.name = \"magician\"\n",
        "hero1.health = 100"
      ],
      "metadata": {
        "id": "pDC9XQxrjWqm"
      },
      "execution_count": null,
      "outputs": []
    },
    {
      "cell_type": "code",
      "source": [
        "hero2.name = \"acolyte\"\n",
        "hero2.health = 200"
      ],
      "metadata": {
        "id": "EPYaRk1bje2q"
      },
      "execution_count": null,
      "outputs": []
    },
    {
      "cell_type": "code",
      "source": [
        "hero3.name = \"swordsman\"\n",
        "hero3.health = 500"
      ],
      "metadata": {
        "id": "v7nP4FSdjqmu"
      },
      "execution_count": null,
      "outputs": []
    },
    {
      "cell_type": "code",
      "source": [
        "print(hero1)"
      ],
      "metadata": {
        "colab": {
          "base_uri": "https://localhost:8080/"
        },
        "id": "dzYEd7qMkPra",
        "outputId": "a48ec4c6-25c9-43ea-ffd8-10c091f57798"
      },
      "execution_count": null,
      "outputs": [
        {
          "output_type": "stream",
          "name": "stdout",
          "text": [
            "<__main__.Hero object at 0x7efe5a7b5450>\n"
          ]
        }
      ]
    },
    {
      "cell_type": "code",
      "source": [
        "print(hero2.__dict__)"
      ],
      "metadata": {
        "colab": {
          "base_uri": "https://localhost:8080/"
        },
        "id": "PH-nOFTjkTSs",
        "outputId": "51fe919b-040d-4733-f72a-85d90a314277"
      },
      "execution_count": null,
      "outputs": [
        {
          "output_type": "stream",
          "name": "stdout",
          "text": [
            "{'name': 'acolyte', 'health': 200}\n"
          ]
        }
      ]
    },
    {
      "cell_type": "code",
      "source": [
        "print(hero3.name)"
      ],
      "metadata": {
        "colab": {
          "base_uri": "https://localhost:8080/"
        },
        "id": "Wzy12buckYH7",
        "outputId": "85e8dd5e-10f4-479c-f5af-3e753dfc9346"
      },
      "execution_count": null,
      "outputs": [
        {
          "output_type": "stream",
          "name": "stdout",
          "text": [
            "swordsman\n"
          ]
        }
      ]
    },
    {
      "cell_type": "markdown",
      "source": [
        "# **Session 2, initialization**"
      ],
      "metadata": {
        "id": "uFpdt5D9sPMQ"
      }
    },
    {
      "cell_type": "code",
      "source": [
        "class Hero:\n",
        "  #initialization\n",
        "  def __init__(self, inputName, inputHealth, inputPower, inputArmor):\n",
        "    self.name = inputName\n",
        "    self.health = inputHealth\n",
        "    self.power = inputPower\n",
        "    self.armor = inputArmor\n"
      ],
      "metadata": {
        "id": "eBulYfVosRC8"
      },
      "execution_count": null,
      "outputs": []
    },
    {
      "cell_type": "code",
      "source": [
        "magician = Hero(\"magician\", 100, 500, 0)\n",
        "hero2 = Hero(\"acoltye\", 200, 0, 100)\n",
        "hero3 = Hero(\"swordsman\", 500, 250, 300)"
      ],
      "metadata": {
        "id": "TrVpsWEutqxa"
      },
      "execution_count": null,
      "outputs": []
    },
    {
      "cell_type": "code",
      "source": [
        "print(magician.__dict__)"
      ],
      "metadata": {
        "colab": {
          "base_uri": "https://localhost:8080/"
        },
        "id": "CsPyw8eIuI1x",
        "outputId": "3ffd3e4e-9e2d-4f38-a40d-874bca935475"
      },
      "execution_count": null,
      "outputs": [
        {
          "output_type": "stream",
          "name": "stdout",
          "text": [
            "{'name': 'magician', 'health': 100, 'power': 500, 'armor': 0}\n"
          ]
        }
      ]
    },
    {
      "cell_type": "code",
      "source": [
        "print(hero2.__dict__)"
      ],
      "metadata": {
        "colab": {
          "base_uri": "https://localhost:8080/"
        },
        "id": "deJZBLG7uNP7",
        "outputId": "f24aa428-16e3-4493-e308-712afa4cb236"
      },
      "execution_count": null,
      "outputs": [
        {
          "output_type": "stream",
          "name": "stdout",
          "text": [
            "{'name': 'acoltye', 'health': 200, 'power': 0, 'armor': 100}\n"
          ]
        }
      ]
    },
    {
      "cell_type": "markdown",
      "source": [
        "# **Session 3, class variabel and instance variabel**"
      ],
      "metadata": {
        "id": "W_d_RGf2wz_r"
      }
    },
    {
      "cell_type": "code",
      "source": [
        "class Hero:\n",
        "  #class variabel\n",
        "  jumlah = 0\n",
        "\n",
        "  def __init__(self, inputName, inputHealth, inputPower, inputArmor):\n",
        "    #instance variabel\n",
        "    self.name = inputName\n",
        "    self.health = inputHealth\n",
        "    self.power = inputPower\n",
        "    self.armor = inputArmor\n",
        "    Hero.jumlah += 1\n",
        "    print(\"membuat hero \" + inputName)"
      ],
      "metadata": {
        "id": "kN43C7WNw_Ff"
      },
      "execution_count": null,
      "outputs": []
    },
    {
      "cell_type": "code",
      "source": [
        "hero1 = Hero(\"magician\", 100, 500, 0)\n",
        "print(Hero.jumlah)\n",
        "hero2 = Hero(\"acoltye\", 200, 0, 100)\n",
        "print(Hero.jumlah)\n",
        "hero3 = Hero(\"swordsman\", 500, 250, 300)\n",
        "print(Hero.jumlah)"
      ],
      "metadata": {
        "colab": {
          "base_uri": "https://localhost:8080/"
        },
        "id": "ojScd14Uxwgj",
        "outputId": "580e846f-1357-4f11-879a-555833641e47"
      },
      "execution_count": null,
      "outputs": [
        {
          "output_type": "stream",
          "name": "stdout",
          "text": [
            "membuat hero magician\n",
            "1\n",
            "membuat hero acoltye\n",
            "2\n",
            "membuat hero swordsman\n",
            "3\n"
          ]
        }
      ]
    },
    {
      "cell_type": "markdown",
      "source": [
        "# **Session 4, method**"
      ],
      "metadata": {
        "id": "Ou4VIFHsGahQ"
      }
    },
    {
      "cell_type": "code",
      "source": [
        "class Hero:\n",
        "  #class variabel\n",
        "  jumlah = 0\n",
        "\n",
        "  def __init__(self, inputName, inputHealth, inputPower, inputArmor):\n",
        "    #instance variabel\n",
        "    self.name = inputName\n",
        "    self.health = inputHealth\n",
        "    self.power = inputPower\n",
        "    self.armor = inputArmor\n",
        "    Hero.jumlah += 1\n",
        "\n",
        "  #void function, method tanpa return dan argumen\n",
        "  def siapa(self):\n",
        "    print(\"namaku adalah \"+ self.name)\n",
        "\n",
        "  #method dengan argumen, tanpa return\n",
        "  def healthUp(self, up):\n",
        "    self.health += up\n",
        "\n",
        "  #method dengan return\n",
        "  def getHealth(self):\n",
        "    return self.health\n"
      ],
      "metadata": {
        "id": "D9iTVgZtGb66"
      },
      "execution_count": null,
      "outputs": []
    },
    {
      "cell_type": "code",
      "source": [
        "hero1 = Hero(\"magician\", 100, 500, 0)\n",
        "hero2 = Hero(\"acoltye\", 200, 0, 100)\n",
        "hero3 = Hero(\"swordsman\", 500, 250, 300)"
      ],
      "metadata": {
        "id": "X8ICd8y9HTG5"
      },
      "execution_count": null,
      "outputs": []
    },
    {
      "cell_type": "code",
      "source": [
        "hero1.siapa()"
      ],
      "metadata": {
        "id": "Hgj1HpNiHXfP"
      },
      "execution_count": null,
      "outputs": []
    },
    {
      "cell_type": "code",
      "source": [
        "hero2.healthUp(100)\n",
        "print(hero2.health)"
      ],
      "metadata": {
        "colab": {
          "base_uri": "https://localhost:8080/"
        },
        "id": "C2G4ukhqHatv",
        "outputId": "0aeb0805-095b-4d45-81c7-fcd82cab1fe7"
      },
      "execution_count": null,
      "outputs": [
        {
          "output_type": "stream",
          "name": "stdout",
          "text": [
            "{'name': 'acoltye', 'health': 0, 'power': 0, 'armor': 100}\n"
          ]
        }
      ]
    },
    {
      "cell_type": "code",
      "source": [
        "print(hero2.getHealth())"
      ],
      "metadata": {
        "colab": {
          "base_uri": "https://localhost:8080/"
        },
        "id": "oWr_82HZHg6X",
        "outputId": "36bfe3da-e151-4624-9e9e-903c1348ce25"
      },
      "execution_count": null,
      "outputs": [
        {
          "output_type": "stream",
          "name": "stdout",
          "text": [
            "200\n"
          ]
        }
      ]
    },
    {
      "cell_type": "markdown",
      "source": [
        "# **Session 5, Example**"
      ],
      "metadata": {
        "id": "3bL20BpyNUXe"
      }
    },
    {
      "cell_type": "code",
      "source": [
        "class Hero:\n",
        "  def __init__(self, name, health, attackPower, armorNumber):\n",
        "    self.name = name\n",
        "    self.health = health\n",
        "    self.attackPower = attackPower\n",
        "    self.armorNumber = armorNumber\n",
        "\n",
        "  def serang(self, lawan):\n",
        "    print(self.name + \" menyerang \"+ lawan.name)\n",
        "    lawan.diserang(self, self.attackPower)\n",
        "\n",
        "  def diserang(self, lawan, attackPower_lawan):\n",
        "    print(self.name + \" diserang \")\n",
        "    attack_diterima = attackPower_lawan/self.armorNumber\n",
        "    print(\"serangan terasa \" + str(attack_diterima))\n",
        "    self.health -= attack_diterima\n",
        "    print(\"darah \" + self.name+ \" tersisa \"+ str(self.health))\n"
      ],
      "metadata": {
        "id": "0G8RFAQ2NTlL"
      },
      "execution_count": null,
      "outputs": []
    },
    {
      "cell_type": "code",
      "source": [
        "hero1 = Hero(\"magician\", 100, 500, 0)\n",
        "hero2 = Hero(\"acoltye\", 200, 10, 100)"
      ],
      "metadata": {
        "id": "t-6GsaToOWyZ"
      },
      "execution_count": null,
      "outputs": []
    },
    {
      "cell_type": "code",
      "source": [
        "hero1.serang(hero2)"
      ],
      "metadata": {
        "colab": {
          "base_uri": "https://localhost:8080/"
        },
        "id": "0WJ-rLC4OZX5",
        "outputId": "b58a9724-7dd1-4052-b41c-c60d72ba3e4d"
      },
      "execution_count": null,
      "outputs": [
        {
          "output_type": "stream",
          "name": "stdout",
          "text": [
            "magician menyerang acoltye\n",
            "acoltye diserang \n",
            "serangan terasa 5.0\n",
            "darah acoltye tersisa 195.0\n"
          ]
        }
      ]
    },
    {
      "cell_type": "code",
      "source": [
        "hero2.serang(hero1)"
      ],
      "metadata": {
        "id": "102qCjtvRe_j"
      },
      "execution_count": null,
      "outputs": []
    },
    {
      "cell_type": "markdown",
      "source": [
        "# **Session 6, Private variable**"
      ],
      "metadata": {
        "id": "Sq7YFh0rRbWh"
      }
    },
    {
      "cell_type": "code",
      "source": [
        "class Hero:\n",
        "  #class variabel\n",
        "  __privateJumlah = 0\n",
        "\n",
        "  def __init__(self,name,health):\n",
        "    self.name =  name\n",
        "    self.health = health\n",
        "\n",
        "    #variabel instance private\n",
        "    self.__private = \"data ini rahasia\"\n",
        "    #variabel instance protected\n",
        "    self._protected = \"data dikunci\""
      ],
      "metadata": {
        "id": "fWfz5a1QScew"
      },
      "execution_count": null,
      "outputs": []
    },
    {
      "cell_type": "code",
      "source": [
        "mage = Hero(\"mage\", 100)"
      ],
      "metadata": {
        "id": "Q0xuTNuEVQzl"
      },
      "execution_count": null,
      "outputs": []
    },
    {
      "cell_type": "code",
      "source": [
        "print(mage.__dict__)"
      ],
      "metadata": {
        "colab": {
          "base_uri": "https://localhost:8080/"
        },
        "id": "Tvf0ULG0VZHR",
        "outputId": "046890e0-1d9c-477e-f1b8-2dd38ea4811c"
      },
      "execution_count": null,
      "outputs": [
        {
          "output_type": "stream",
          "name": "stdout",
          "text": [
            "{'name': 'mage', 'health': 100, '_Hero__private': 'data ini rahasia', '_protected': 'data dikunci'}\n"
          ]
        }
      ]
    },
    {
      "cell_type": "code",
      "source": [
        "print(mage.__private) #tidak dapat diakses karena private"
      ],
      "metadata": {
        "colab": {
          "base_uri": "https://localhost:8080/",
          "height": 171
        },
        "id": "IC8cvmVWVcpR",
        "outputId": "03d38e23-aee9-4c95-ae6c-9e8465f5eae6"
      },
      "execution_count": null,
      "outputs": [
        {
          "output_type": "error",
          "ename": "AttributeError",
          "evalue": "ignored",
          "traceback": [
            "\u001b[0;31m---------------------------------------------------------------------------\u001b[0m",
            "\u001b[0;31mAttributeError\u001b[0m                            Traceback (most recent call last)",
            "\u001b[0;32m<ipython-input-42-45e451f096ad>\u001b[0m in \u001b[0;36m<module>\u001b[0;34m()\u001b[0m\n\u001b[0;32m----> 1\u001b[0;31m \u001b[0mprint\u001b[0m\u001b[0;34m(\u001b[0m\u001b[0mmage\u001b[0m\u001b[0;34m.\u001b[0m\u001b[0m__private\u001b[0m\u001b[0;34m)\u001b[0m\u001b[0;34m\u001b[0m\u001b[0;34m\u001b[0m\u001b[0m\n\u001b[0m",
            "\u001b[0;31mAttributeError\u001b[0m: 'Hero' object has no attribute '__private'"
          ]
        }
      ]
    },
    {
      "cell_type": "code",
      "source": [
        "print(mage._protected)"
      ],
      "metadata": {
        "colab": {
          "base_uri": "https://localhost:8080/"
        },
        "id": "awPJ8lOGVjrZ",
        "outputId": "36786da4-51ed-4dc7-a2b3-c2b9f15cd249"
      },
      "execution_count": null,
      "outputs": [
        {
          "output_type": "stream",
          "name": "stdout",
          "text": [
            "data dikunci\n"
          ]
        }
      ]
    },
    {
      "cell_type": "markdown",
      "source": [
        "# **Session 7, Encapsulation**"
      ],
      "metadata": {
        "id": "HcjK6h9iXlSt"
      }
    },
    {
      "cell_type": "code",
      "source": [
        "class Hero:\n",
        "  def __init__(self, name, health, attackPower):\n",
        "    self.__name = name\n",
        "    self.__health = health\n",
        "    self.__attPower = attackPower\n",
        "\n",
        "  #getter\n",
        "  def getName(self):\n",
        "    return self.__name\n",
        "  def getHealth(self):\n",
        "    return self.__health\n",
        "\n",
        "  #setter\n",
        "  def setdiserang(self,atkpower):\n",
        "      self.__health -= atkpower\n"
      ],
      "metadata": {
        "id": "SYGe-1zuX3TG"
      },
      "execution_count": null,
      "outputs": []
    },
    {
      "cell_type": "code",
      "source": [
        "magician = Hero(\"magician\", 100, 500)"
      ],
      "metadata": {
        "id": "fnpZ4Gl88FyD"
      },
      "execution_count": null,
      "outputs": []
    },
    {
      "cell_type": "code",
      "source": [
        "print(magician.__name)"
      ],
      "metadata": {
        "colab": {
          "base_uri": "https://localhost:8080/",
          "height": 171
        },
        "id": "j6AgxP108QLC",
        "outputId": "78710a61-42ec-4038-c462-8872ee638219"
      },
      "execution_count": null,
      "outputs": [
        {
          "output_type": "error",
          "ename": "AttributeError",
          "evalue": "ignored",
          "traceback": [
            "\u001b[0;31m---------------------------------------------------------------------------\u001b[0m",
            "\u001b[0;31mAttributeError\u001b[0m                            Traceback (most recent call last)",
            "\u001b[0;32m<ipython-input-7-e386abf1cb67>\u001b[0m in \u001b[0;36m<module>\u001b[0;34m()\u001b[0m\n\u001b[0;32m----> 1\u001b[0;31m \u001b[0mprint\u001b[0m\u001b[0;34m(\u001b[0m\u001b[0mmagician\u001b[0m\u001b[0;34m.\u001b[0m\u001b[0m__name\u001b[0m\u001b[0;34m)\u001b[0m\u001b[0;34m\u001b[0m\u001b[0;34m\u001b[0m\u001b[0m\n\u001b[0m",
            "\u001b[0;31mAttributeError\u001b[0m: 'Hero' object has no attribute '__name'"
          ]
        }
      ]
    },
    {
      "cell_type": "code",
      "source": [
        "print(magician.getName())"
      ],
      "metadata": {
        "colab": {
          "base_uri": "https://localhost:8080/"
        },
        "id": "CZjJ-3vB8TCI",
        "outputId": "adbdb5a6-920d-4628-9f55-c4b00f6629d8"
      },
      "execution_count": null,
      "outputs": [
        {
          "output_type": "stream",
          "name": "stdout",
          "text": [
            "magician\n"
          ]
        }
      ]
    },
    {
      "cell_type": "code",
      "source": [
        "magician.setdiserang(10)\n",
        "print(magician.getHealth())"
      ],
      "metadata": {
        "colab": {
          "base_uri": "https://localhost:8080/"
        },
        "id": "83mN_2ZQ8wzv",
        "outputId": "99d44c5d-ceba-49ce-ea5c-4921dada4485"
      },
      "execution_count": null,
      "outputs": [
        {
          "output_type": "stream",
          "name": "stdout",
          "text": [
            "90\n"
          ]
        }
      ]
    },
    {
      "cell_type": "markdown",
      "source": [
        "# **Session 8, Inheritance**"
      ],
      "metadata": {
        "id": "F5SHwtrJXsRa"
      }
    },
    {
      "cell_type": "code",
      "source": [
        "#Supperiorclass\n",
        "class Novice:\n",
        "  def __init__(self, name, health):\n",
        "    self.name = name\n",
        "    self.health = health\n",
        "\n",
        "#Subclass\n",
        "class Hero_magician(Novice):\n",
        "  pass\n",
        "class Hero_assasin(Novice):\n",
        "  pass\n"
      ],
      "metadata": {
        "id": "FA7_ZYzdX4VX"
      },
      "execution_count": null,
      "outputs": []
    },
    {
      "cell_type": "code",
      "source": [
        "blaa = Hero_magician(\"blaa\", 100)\n",
        "axel = Hero_assasin(\"axel\", 200)"
      ],
      "metadata": {
        "id": "MbMihIgyEO7C"
      },
      "execution_count": null,
      "outputs": []
    },
    {
      "cell_type": "code",
      "source": [
        "print(blaa.__dict__)"
      ],
      "metadata": {
        "colab": {
          "base_uri": "https://localhost:8080/"
        },
        "id": "xAP04MXvEcmo",
        "outputId": "2aff278a-8b8e-429b-c432-a450ddadfcf6"
      },
      "execution_count": null,
      "outputs": [
        {
          "output_type": "stream",
          "name": "stdout",
          "text": [
            "{'name': 'blaa', 'health': 100}\n"
          ]
        }
      ]
    }
  ]
}